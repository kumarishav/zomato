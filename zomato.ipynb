{
 "cells": [
  {
   "cell_type": "code",
   "execution_count": 1,
   "id": "c7614c82",
   "metadata": {},
   "outputs": [],
   "source": [
    "import numpy as np\n",
    "import pandas as pd\n",
    "import matplotlib.pyplot as plt\n",
    "import matplotlib.cm as cm\n",
    "import seaborn as sns\n",
    "import random"
   ]
  },
  {
   "cell_type": "code",
   "execution_count": 2,
   "id": "78afe4eb",
   "metadata": {},
   "outputs": [],
   "source": [
    "data = pd.read_csv(\"zomato_restaurants_in_India.csv\")"
   ]
  },
  {
   "cell_type": "code",
   "execution_count": 3,
   "id": "0e55d840",
   "metadata": {},
   "outputs": [
    {
     "data": {
      "text/html": [
       "<div>\n",
       "<style scoped>\n",
       "    .dataframe tbody tr th:only-of-type {\n",
       "        vertical-align: middle;\n",
       "    }\n",
       "\n",
       "    .dataframe tbody tr th {\n",
       "        vertical-align: top;\n",
       "    }\n",
       "\n",
       "    .dataframe thead th {\n",
       "        text-align: right;\n",
       "    }\n",
       "</style>\n",
       "<table border=\"1\" class=\"dataframe\">\n",
       "  <thead>\n",
       "    <tr style=\"text-align: right;\">\n",
       "      <th></th>\n",
       "      <th>res_id</th>\n",
       "      <th>name</th>\n",
       "      <th>establishment</th>\n",
       "      <th>url</th>\n",
       "      <th>address</th>\n",
       "      <th>city</th>\n",
       "      <th>city_id</th>\n",
       "      <th>locality</th>\n",
       "      <th>latitude</th>\n",
       "      <th>longitude</th>\n",
       "      <th>...</th>\n",
       "      <th>price_range</th>\n",
       "      <th>currency</th>\n",
       "      <th>highlights</th>\n",
       "      <th>aggregate_rating</th>\n",
       "      <th>rating_text</th>\n",
       "      <th>votes</th>\n",
       "      <th>photo_count</th>\n",
       "      <th>opentable_support</th>\n",
       "      <th>delivery</th>\n",
       "      <th>takeaway</th>\n",
       "    </tr>\n",
       "  </thead>\n",
       "  <tbody>\n",
       "    <tr>\n",
       "      <th>0</th>\n",
       "      <td>3400299</td>\n",
       "      <td>Bikanervala</td>\n",
       "      <td>['Quick Bites']</td>\n",
       "      <td>https://www.zomato.com/agra/bikanervala-khanda...</td>\n",
       "      <td>Kalyani Point, Near Tulsi Cinema, Bypass Road,...</td>\n",
       "      <td>Agra</td>\n",
       "      <td>34</td>\n",
       "      <td>Khandari</td>\n",
       "      <td>27.211450</td>\n",
       "      <td>78.002381</td>\n",
       "      <td>...</td>\n",
       "      <td>2</td>\n",
       "      <td>Rs.</td>\n",
       "      <td>['Lunch', 'Takeaway Available', 'Credit Card',...</td>\n",
       "      <td>4.4</td>\n",
       "      <td>Very Good</td>\n",
       "      <td>814</td>\n",
       "      <td>154</td>\n",
       "      <td>0.0</td>\n",
       "      <td>-1</td>\n",
       "      <td>-1</td>\n",
       "    </tr>\n",
       "    <tr>\n",
       "      <th>1</th>\n",
       "      <td>3400005</td>\n",
       "      <td>Mama Chicken Mama Franky House</td>\n",
       "      <td>['Quick Bites']</td>\n",
       "      <td>https://www.zomato.com/agra/mama-chicken-mama-...</td>\n",
       "      <td>Main Market, Sadar Bazaar, Agra Cantt, Agra</td>\n",
       "      <td>Agra</td>\n",
       "      <td>34</td>\n",
       "      <td>Agra Cantt</td>\n",
       "      <td>27.160569</td>\n",
       "      <td>78.011583</td>\n",
       "      <td>...</td>\n",
       "      <td>2</td>\n",
       "      <td>Rs.</td>\n",
       "      <td>['Delivery', 'No Alcohol Available', 'Dinner',...</td>\n",
       "      <td>4.4</td>\n",
       "      <td>Very Good</td>\n",
       "      <td>1203</td>\n",
       "      <td>161</td>\n",
       "      <td>0.0</td>\n",
       "      <td>-1</td>\n",
       "      <td>-1</td>\n",
       "    </tr>\n",
       "    <tr>\n",
       "      <th>2</th>\n",
       "      <td>3401013</td>\n",
       "      <td>Bhagat Halwai</td>\n",
       "      <td>['Quick Bites']</td>\n",
       "      <td>https://www.zomato.com/agra/bhagat-halwai-2-sh...</td>\n",
       "      <td>62/1, Near Easy Day, West Shivaji Nagar, Goalp...</td>\n",
       "      <td>Agra</td>\n",
       "      <td>34</td>\n",
       "      <td>Shahganj</td>\n",
       "      <td>27.182938</td>\n",
       "      <td>77.979684</td>\n",
       "      <td>...</td>\n",
       "      <td>1</td>\n",
       "      <td>Rs.</td>\n",
       "      <td>['No Alcohol Available', 'Dinner', 'Takeaway A...</td>\n",
       "      <td>4.2</td>\n",
       "      <td>Very Good</td>\n",
       "      <td>801</td>\n",
       "      <td>107</td>\n",
       "      <td>0.0</td>\n",
       "      <td>1</td>\n",
       "      <td>-1</td>\n",
       "    </tr>\n",
       "  </tbody>\n",
       "</table>\n",
       "<p>3 rows × 26 columns</p>\n",
       "</div>"
      ],
      "text/plain": [
       "    res_id                            name    establishment  \\\n",
       "0  3400299                     Bikanervala  ['Quick Bites']   \n",
       "1  3400005  Mama Chicken Mama Franky House  ['Quick Bites']   \n",
       "2  3401013                   Bhagat Halwai  ['Quick Bites']   \n",
       "\n",
       "                                                 url  \\\n",
       "0  https://www.zomato.com/agra/bikanervala-khanda...   \n",
       "1  https://www.zomato.com/agra/mama-chicken-mama-...   \n",
       "2  https://www.zomato.com/agra/bhagat-halwai-2-sh...   \n",
       "\n",
       "                                             address  city  city_id  \\\n",
       "0  Kalyani Point, Near Tulsi Cinema, Bypass Road,...  Agra       34   \n",
       "1        Main Market, Sadar Bazaar, Agra Cantt, Agra  Agra       34   \n",
       "2  62/1, Near Easy Day, West Shivaji Nagar, Goalp...  Agra       34   \n",
       "\n",
       "     locality   latitude  longitude  ... price_range  currency  \\\n",
       "0    Khandari  27.211450  78.002381  ...           2       Rs.   \n",
       "1  Agra Cantt  27.160569  78.011583  ...           2       Rs.   \n",
       "2    Shahganj  27.182938  77.979684  ...           1       Rs.   \n",
       "\n",
       "                                          highlights aggregate_rating  \\\n",
       "0  ['Lunch', 'Takeaway Available', 'Credit Card',...              4.4   \n",
       "1  ['Delivery', 'No Alcohol Available', 'Dinner',...              4.4   \n",
       "2  ['No Alcohol Available', 'Dinner', 'Takeaway A...              4.2   \n",
       "\n",
       "  rating_text  votes  photo_count opentable_support delivery  takeaway  \n",
       "0   Very Good    814          154               0.0       -1        -1  \n",
       "1   Very Good   1203          161               0.0       -1        -1  \n",
       "2   Very Good    801          107               0.0        1        -1  \n",
       "\n",
       "[3 rows x 26 columns]"
      ]
     },
     "execution_count": 3,
     "metadata": {},
     "output_type": "execute_result"
    }
   ],
   "source": [
    "data.head(3)"
   ]
  },
  {
   "cell_type": "code",
   "execution_count": 5,
   "id": "2e5130d7",
   "metadata": {},
   "outputs": [
    {
     "data": {
      "text/html": [
       "<div>\n",
       "<style scoped>\n",
       "    .dataframe tbody tr th:only-of-type {\n",
       "        vertical-align: middle;\n",
       "    }\n",
       "\n",
       "    .dataframe tbody tr th {\n",
       "        vertical-align: top;\n",
       "    }\n",
       "\n",
       "    .dataframe thead th {\n",
       "        text-align: right;\n",
       "    }\n",
       "</style>\n",
       "<table border=\"1\" class=\"dataframe\">\n",
       "  <thead>\n",
       "    <tr style=\"text-align: right;\">\n",
       "      <th></th>\n",
       "      <th>res_id</th>\n",
       "      <th>name</th>\n",
       "      <th>establishment</th>\n",
       "      <th>url</th>\n",
       "      <th>address</th>\n",
       "      <th>city</th>\n",
       "      <th>city_id</th>\n",
       "      <th>locality</th>\n",
       "      <th>latitude</th>\n",
       "      <th>longitude</th>\n",
       "      <th>...</th>\n",
       "      <th>price_range</th>\n",
       "      <th>currency</th>\n",
       "      <th>highlights</th>\n",
       "      <th>aggregate_rating</th>\n",
       "      <th>rating_text</th>\n",
       "      <th>votes</th>\n",
       "      <th>photo_count</th>\n",
       "      <th>opentable_support</th>\n",
       "      <th>delivery</th>\n",
       "      <th>takeaway</th>\n",
       "    </tr>\n",
       "  </thead>\n",
       "  <tbody>\n",
       "    <tr>\n",
       "      <th>211941</th>\n",
       "      <td>18984164</td>\n",
       "      <td>The Grand Thakar</td>\n",
       "      <td>['Casual Dining']</td>\n",
       "      <td>https://www.zomato.com/vadodara/the-grand-thak...</td>\n",
       "      <td>3rd Floor, Shreem Shalini Mall, Opposite Conqu...</td>\n",
       "      <td>Vadodara</td>\n",
       "      <td>32</td>\n",
       "      <td>Alkapuri</td>\n",
       "      <td>22.310563</td>\n",
       "      <td>73.171163</td>\n",
       "      <td>...</td>\n",
       "      <td>2</td>\n",
       "      <td>Rs.</td>\n",
       "      <td>['Dinner', 'Cash', 'Debit Card', 'Lunch', 'Tak...</td>\n",
       "      <td>4.0</td>\n",
       "      <td>Very Good</td>\n",
       "      <td>111</td>\n",
       "      <td>38</td>\n",
       "      <td>0.0</td>\n",
       "      <td>-1</td>\n",
       "      <td>-1</td>\n",
       "    </tr>\n",
       "    <tr>\n",
       "      <th>211942</th>\n",
       "      <td>3201138</td>\n",
       "      <td>Subway</td>\n",
       "      <td>['Quick Bites']</td>\n",
       "      <td>https://www.zomato.com/vadodara/subway-1-akota...</td>\n",
       "      <td>G-2, Vedant Platina, Near Cosmos, Akota, Vadodara</td>\n",
       "      <td>Vadodara</td>\n",
       "      <td>32</td>\n",
       "      <td>Akota</td>\n",
       "      <td>22.270027</td>\n",
       "      <td>73.143068</td>\n",
       "      <td>...</td>\n",
       "      <td>2</td>\n",
       "      <td>Rs.</td>\n",
       "      <td>['Dinner', 'Delivery', 'Credit Card', 'Lunch',...</td>\n",
       "      <td>3.7</td>\n",
       "      <td>Good</td>\n",
       "      <td>128</td>\n",
       "      <td>34</td>\n",
       "      <td>0.0</td>\n",
       "      <td>1</td>\n",
       "      <td>-1</td>\n",
       "    </tr>\n",
       "    <tr>\n",
       "      <th>211943</th>\n",
       "      <td>18879846</td>\n",
       "      <td>Freshco's - The Health Cafe</td>\n",
       "      <td>['Café']</td>\n",
       "      <td>https://www.zomato.com/vadodara/freshcos-the-h...</td>\n",
       "      <td>Shop 7, Ground Floor, Opposite Natubhai Circle...</td>\n",
       "      <td>Vadodara</td>\n",
       "      <td>32</td>\n",
       "      <td>Vadiwadi</td>\n",
       "      <td>22.309935</td>\n",
       "      <td>73.158768</td>\n",
       "      <td>...</td>\n",
       "      <td>2</td>\n",
       "      <td>Rs.</td>\n",
       "      <td>['Dinner', 'Cash', 'Takeaway Available', 'Debi...</td>\n",
       "      <td>4.0</td>\n",
       "      <td>Very Good</td>\n",
       "      <td>93</td>\n",
       "      <td>53</td>\n",
       "      <td>0.0</td>\n",
       "      <td>1</td>\n",
       "      <td>-1</td>\n",
       "    </tr>\n",
       "  </tbody>\n",
       "</table>\n",
       "<p>3 rows × 26 columns</p>\n",
       "</div>"
      ],
      "text/plain": [
       "          res_id                         name      establishment  \\\n",
       "211941  18984164             The Grand Thakar  ['Casual Dining']   \n",
       "211942   3201138                       Subway    ['Quick Bites']   \n",
       "211943  18879846  Freshco's - The Health Cafe           ['Café']   \n",
       "\n",
       "                                                      url  \\\n",
       "211941  https://www.zomato.com/vadodara/the-grand-thak...   \n",
       "211942  https://www.zomato.com/vadodara/subway-1-akota...   \n",
       "211943  https://www.zomato.com/vadodara/freshcos-the-h...   \n",
       "\n",
       "                                                  address      city  city_id  \\\n",
       "211941  3rd Floor, Shreem Shalini Mall, Opposite Conqu...  Vadodara       32   \n",
       "211942  G-2, Vedant Platina, Near Cosmos, Akota, Vadodara  Vadodara       32   \n",
       "211943  Shop 7, Ground Floor, Opposite Natubhai Circle...  Vadodara       32   \n",
       "\n",
       "        locality   latitude  longitude  ... price_range  currency  \\\n",
       "211941  Alkapuri  22.310563  73.171163  ...           2       Rs.   \n",
       "211942     Akota  22.270027  73.143068  ...           2       Rs.   \n",
       "211943  Vadiwadi  22.309935  73.158768  ...           2       Rs.   \n",
       "\n",
       "                                               highlights aggregate_rating  \\\n",
       "211941  ['Dinner', 'Cash', 'Debit Card', 'Lunch', 'Tak...              4.0   \n",
       "211942  ['Dinner', 'Delivery', 'Credit Card', 'Lunch',...              3.7   \n",
       "211943  ['Dinner', 'Cash', 'Takeaway Available', 'Debi...              4.0   \n",
       "\n",
       "       rating_text  votes  photo_count opentable_support delivery  takeaway  \n",
       "211941   Very Good    111           38               0.0       -1        -1  \n",
       "211942        Good    128           34               0.0        1        -1  \n",
       "211943   Very Good     93           53               0.0        1        -1  \n",
       "\n",
       "[3 rows x 26 columns]"
      ]
     },
     "execution_count": 5,
     "metadata": {},
     "output_type": "execute_result"
    }
   ],
   "source": [
    "data.tail(3)"
   ]
  },
  {
   "cell_type": "code",
   "execution_count": 6,
   "id": "e3f87aff",
   "metadata": {},
   "outputs": [
    {
     "data": {
      "text/plain": [
       "(211944, 26)"
      ]
     },
     "execution_count": 6,
     "metadata": {},
     "output_type": "execute_result"
    }
   ],
   "source": [
    "data.shape"
   ]
  },
  {
   "cell_type": "code",
   "execution_count": 7,
   "id": "fbfb6e51",
   "metadata": {},
   "outputs": [
    {
     "data": {
      "text/html": [
       "<div>\n",
       "<style scoped>\n",
       "    .dataframe tbody tr th:only-of-type {\n",
       "        vertical-align: middle;\n",
       "    }\n",
       "\n",
       "    .dataframe tbody tr th {\n",
       "        vertical-align: top;\n",
       "    }\n",
       "\n",
       "    .dataframe thead th {\n",
       "        text-align: right;\n",
       "    }\n",
       "</style>\n",
       "<table border=\"1\" class=\"dataframe\">\n",
       "  <thead>\n",
       "    <tr style=\"text-align: right;\">\n",
       "      <th></th>\n",
       "      <th>res_id</th>\n",
       "      <th>name</th>\n",
       "      <th>establishment</th>\n",
       "      <th>url</th>\n",
       "      <th>address</th>\n",
       "      <th>city</th>\n",
       "      <th>city_id</th>\n",
       "      <th>locality</th>\n",
       "      <th>latitude</th>\n",
       "      <th>longitude</th>\n",
       "      <th>...</th>\n",
       "      <th>price_range</th>\n",
       "      <th>currency</th>\n",
       "      <th>highlights</th>\n",
       "      <th>aggregate_rating</th>\n",
       "      <th>rating_text</th>\n",
       "      <th>votes</th>\n",
       "      <th>photo_count</th>\n",
       "      <th>opentable_support</th>\n",
       "      <th>delivery</th>\n",
       "      <th>takeaway</th>\n",
       "    </tr>\n",
       "  </thead>\n",
       "  <tbody>\n",
       "    <tr>\n",
       "      <th>2622</th>\n",
       "      <td>18757684</td>\n",
       "      <td>Ph Se Food</td>\n",
       "      <td>['Casual Dining']</td>\n",
       "      <td>https://www.zomato.com/ahmedabad/ph-se-food-bo...</td>\n",
       "      <td>205-206, Silve Radiance, Sindhu Bhawan Road, P...</td>\n",
       "      <td>Ahmedabad</td>\n",
       "      <td>11</td>\n",
       "      <td>Bodakdev</td>\n",
       "      <td>23.038755</td>\n",
       "      <td>72.510887</td>\n",
       "      <td>...</td>\n",
       "      <td>3</td>\n",
       "      <td>Rs.</td>\n",
       "      <td>['Dinner', 'Cash', 'Takeaway Available', 'Cred...</td>\n",
       "      <td>4.5</td>\n",
       "      <td>Excellent</td>\n",
       "      <td>1434</td>\n",
       "      <td>773</td>\n",
       "      <td>0.0</td>\n",
       "      <td>-1</td>\n",
       "      <td>-1</td>\n",
       "    </tr>\n",
       "    <tr>\n",
       "      <th>2623</th>\n",
       "      <td>18658177</td>\n",
       "      <td>Millhouse</td>\n",
       "      <td>['Casual Dining']</td>\n",
       "      <td>https://www.zomato.com/ahmedabad/millhouse-1-v...</td>\n",
       "      <td>3rd Floor, Alpha One Mall, Vastrapur, Ahmedabad</td>\n",
       "      <td>Ahmedabad</td>\n",
       "      <td>11</td>\n",
       "      <td>Ahmedabad One Mall, Vastrapur</td>\n",
       "      <td>23.039770</td>\n",
       "      <td>72.531508</td>\n",
       "      <td>...</td>\n",
       "      <td>3</td>\n",
       "      <td>Rs.</td>\n",
       "      <td>['No Alcohol Available', 'Debit Card', 'Credit...</td>\n",
       "      <td>4.5</td>\n",
       "      <td>Excellent</td>\n",
       "      <td>1530</td>\n",
       "      <td>768</td>\n",
       "      <td>0.0</td>\n",
       "      <td>-1</td>\n",
       "      <td>-1</td>\n",
       "    </tr>\n",
       "    <tr>\n",
       "      <th>2624</th>\n",
       "      <td>18663856</td>\n",
       "      <td>The Red Bistro</td>\n",
       "      <td>['Casual Dining']</td>\n",
       "      <td>https://www.zomato.com/ahmedabad/the-red-bistr...</td>\n",
       "      <td>Armeida, Sindhu Bhavan Road, Off SG Road, Boda...</td>\n",
       "      <td>Ahmedabad</td>\n",
       "      <td>11</td>\n",
       "      <td>Bodakdev</td>\n",
       "      <td>23.039852</td>\n",
       "      <td>72.509181</td>\n",
       "      <td>...</td>\n",
       "      <td>3</td>\n",
       "      <td>Rs.</td>\n",
       "      <td>['Lunch', 'Delivery', 'Debit Card', 'Dinner', ...</td>\n",
       "      <td>4.6</td>\n",
       "      <td>Excellent</td>\n",
       "      <td>695</td>\n",
       "      <td>631</td>\n",
       "      <td>0.0</td>\n",
       "      <td>-1</td>\n",
       "      <td>-1</td>\n",
       "    </tr>\n",
       "    <tr>\n",
       "      <th>2625</th>\n",
       "      <td>18819827</td>\n",
       "      <td>Kadak Bhagat</td>\n",
       "      <td>['Casual Dining']</td>\n",
       "      <td>https://www.zomato.com/ahmedabad/kadak-bhagat-...</td>\n",
       "      <td>1, First Floor, Dev Aurum Complex, Deer Cirle,...</td>\n",
       "      <td>Ahmedabad</td>\n",
       "      <td>11</td>\n",
       "      <td>Prahlad Nagar</td>\n",
       "      <td>23.012411</td>\n",
       "      <td>72.514392</td>\n",
       "      <td>...</td>\n",
       "      <td>3</td>\n",
       "      <td>Rs.</td>\n",
       "      <td>['Credit Card', 'Dinner', 'Cash', 'Debit Card'...</td>\n",
       "      <td>4.4</td>\n",
       "      <td>Very Good</td>\n",
       "      <td>977</td>\n",
       "      <td>188</td>\n",
       "      <td>0.0</td>\n",
       "      <td>1</td>\n",
       "      <td>-1</td>\n",
       "    </tr>\n",
       "    <tr>\n",
       "      <th>2626</th>\n",
       "      <td>18718880</td>\n",
       "      <td>Urban Khichdi</td>\n",
       "      <td>['Casual Dining']</td>\n",
       "      <td>https://www.zomato.com/ahmedabad/urban-khichdi...</td>\n",
       "      <td>A -103, Shivalik Plaza, Opposite AMA, IIM Road...</td>\n",
       "      <td>Ahmedabad</td>\n",
       "      <td>11</td>\n",
       "      <td>Vastrapur</td>\n",
       "      <td>23.028315</td>\n",
       "      <td>72.542458</td>\n",
       "      <td>...</td>\n",
       "      <td>2</td>\n",
       "      <td>Rs.</td>\n",
       "      <td>['Dinner', 'Delivery', 'Debit Card', 'Lunch', ...</td>\n",
       "      <td>4.7</td>\n",
       "      <td>Excellent</td>\n",
       "      <td>619</td>\n",
       "      <td>305</td>\n",
       "      <td>0.0</td>\n",
       "      <td>1</td>\n",
       "      <td>-1</td>\n",
       "    </tr>\n",
       "    <tr>\n",
       "      <th>...</th>\n",
       "      <td>...</td>\n",
       "      <td>...</td>\n",
       "      <td>...</td>\n",
       "      <td>...</td>\n",
       "      <td>...</td>\n",
       "      <td>...</td>\n",
       "      <td>...</td>\n",
       "      <td>...</td>\n",
       "      <td>...</td>\n",
       "      <td>...</td>\n",
       "      <td>...</td>\n",
       "      <td>...</td>\n",
       "      <td>...</td>\n",
       "      <td>...</td>\n",
       "      <td>...</td>\n",
       "      <td>...</td>\n",
       "      <td>...</td>\n",
       "      <td>...</td>\n",
       "      <td>...</td>\n",
       "      <td>...</td>\n",
       "      <td>...</td>\n",
       "    </tr>\n",
       "    <tr>\n",
       "      <th>5931</th>\n",
       "      <td>18819865</td>\n",
       "      <td>Kadak Bhagat</td>\n",
       "      <td>['Casual Dining']</td>\n",
       "      <td>https://www.zomato.com/ahmedabad/kadak-bhagat-...</td>\n",
       "      <td>77, First Floor, Above Bata Showroom, Shrinath...</td>\n",
       "      <td>Ahmedabad</td>\n",
       "      <td>11</td>\n",
       "      <td>Mani Nagar</td>\n",
       "      <td>22.997577</td>\n",
       "      <td>72.604257</td>\n",
       "      <td>...</td>\n",
       "      <td>3</td>\n",
       "      <td>Rs.</td>\n",
       "      <td>['Dinner', 'Cash', 'Credit Card', 'Lunch', 'Ta...</td>\n",
       "      <td>4.8</td>\n",
       "      <td>Excellent</td>\n",
       "      <td>897</td>\n",
       "      <td>79</td>\n",
       "      <td>0.0</td>\n",
       "      <td>-1</td>\n",
       "      <td>-1</td>\n",
       "    </tr>\n",
       "    <tr>\n",
       "      <th>5932</th>\n",
       "      <td>18575712</td>\n",
       "      <td>Whatta Waffle!</td>\n",
       "      <td>['Dessert Parlour']</td>\n",
       "      <td>https://www.zomato.com/ahmedabad/whatta-waffle...</td>\n",
       "      <td>Shop 3, Asian Square, Near Armieda, Sindhu Bha...</td>\n",
       "      <td>Ahmedabad</td>\n",
       "      <td>11</td>\n",
       "      <td>Bodakdev</td>\n",
       "      <td>23.040044</td>\n",
       "      <td>72.509040</td>\n",
       "      <td>...</td>\n",
       "      <td>2</td>\n",
       "      <td>Rs.</td>\n",
       "      <td>['Cash', 'Takeaway Available', 'Credit Card', ...</td>\n",
       "      <td>4.4</td>\n",
       "      <td>Very Good</td>\n",
       "      <td>533</td>\n",
       "      <td>720</td>\n",
       "      <td>0.0</td>\n",
       "      <td>1</td>\n",
       "      <td>-1</td>\n",
       "    </tr>\n",
       "    <tr>\n",
       "      <th>5933</th>\n",
       "      <td>18231895</td>\n",
       "      <td>Bayleaf - Courtyard By Marriott</td>\n",
       "      <td>['Fine Dining']</td>\n",
       "      <td>https://www.zomato.com/ahmedabad/bayleaf-court...</td>\n",
       "      <td>Courtyard By Marriott, Ramdevnagar Cross Road,...</td>\n",
       "      <td>Ahmedabad</td>\n",
       "      <td>11</td>\n",
       "      <td>Courtyard By Marriott, Satellite</td>\n",
       "      <td>23.027774</td>\n",
       "      <td>72.512055</td>\n",
       "      <td>...</td>\n",
       "      <td>4</td>\n",
       "      <td>Rs.</td>\n",
       "      <td>['Cash', 'Takeaway Available', 'Dinner', 'Debi...</td>\n",
       "      <td>4.5</td>\n",
       "      <td>Excellent</td>\n",
       "      <td>395</td>\n",
       "      <td>418</td>\n",
       "      <td>0.0</td>\n",
       "      <td>-1</td>\n",
       "      <td>-1</td>\n",
       "    </tr>\n",
       "    <tr>\n",
       "      <th>5934</th>\n",
       "      <td>18897149</td>\n",
       "      <td>So Hi Kebabs &amp; Curries Company</td>\n",
       "      <td>['Casual Dining']</td>\n",
       "      <td>https://www.zomato.com/ahmedabad/so-hi-kebabs-...</td>\n",
       "      <td>103, Silver Radiance, Near Pakwan Cross Road, ...</td>\n",
       "      <td>Ahmedabad</td>\n",
       "      <td>11</td>\n",
       "      <td>Bodakdev</td>\n",
       "      <td>23.038594</td>\n",
       "      <td>72.510983</td>\n",
       "      <td>...</td>\n",
       "      <td>3</td>\n",
       "      <td>Rs.</td>\n",
       "      <td>['Dinner', 'Cash', 'Takeaway Available', 'Debi...</td>\n",
       "      <td>4.2</td>\n",
       "      <td>Very Good</td>\n",
       "      <td>340</td>\n",
       "      <td>147</td>\n",
       "      <td>0.0</td>\n",
       "      <td>-1</td>\n",
       "      <td>-1</td>\n",
       "    </tr>\n",
       "    <tr>\n",
       "      <th>5935</th>\n",
       "      <td>18733569</td>\n",
       "      <td>Kailash Parbat</td>\n",
       "      <td>['Casual Dining']</td>\n",
       "      <td>https://www.zomato.com/ahmedabad/kailash-parba...</td>\n",
       "      <td>Unit 7, Silver Radiance Building, Sindhu Bhava...</td>\n",
       "      <td>Ahmedabad</td>\n",
       "      <td>11</td>\n",
       "      <td>Bodakdev</td>\n",
       "      <td>23.038741</td>\n",
       "      <td>72.510933</td>\n",
       "      <td>...</td>\n",
       "      <td>3</td>\n",
       "      <td>Rs.</td>\n",
       "      <td>['Dinner', 'Delivery', 'Debit Card', 'Lunch', ...</td>\n",
       "      <td>3.9</td>\n",
       "      <td>Good</td>\n",
       "      <td>242</td>\n",
       "      <td>218</td>\n",
       "      <td>0.0</td>\n",
       "      <td>-1</td>\n",
       "      <td>-1</td>\n",
       "    </tr>\n",
       "  </tbody>\n",
       "</table>\n",
       "<p>3162 rows × 26 columns</p>\n",
       "</div>"
      ],
      "text/plain": [
       "        res_id                             name        establishment  \\\n",
       "2622  18757684                       Ph Se Food    ['Casual Dining']   \n",
       "2623  18658177                        Millhouse    ['Casual Dining']   \n",
       "2624  18663856                   The Red Bistro    ['Casual Dining']   \n",
       "2625  18819827                     Kadak Bhagat    ['Casual Dining']   \n",
       "2626  18718880                    Urban Khichdi    ['Casual Dining']   \n",
       "...        ...                              ...                  ...   \n",
       "5931  18819865                     Kadak Bhagat    ['Casual Dining']   \n",
       "5932  18575712                   Whatta Waffle!  ['Dessert Parlour']   \n",
       "5933  18231895  Bayleaf - Courtyard By Marriott      ['Fine Dining']   \n",
       "5934  18897149   So Hi Kebabs & Curries Company    ['Casual Dining']   \n",
       "5935  18733569                   Kailash Parbat    ['Casual Dining']   \n",
       "\n",
       "                                                    url  \\\n",
       "2622  https://www.zomato.com/ahmedabad/ph-se-food-bo...   \n",
       "2623  https://www.zomato.com/ahmedabad/millhouse-1-v...   \n",
       "2624  https://www.zomato.com/ahmedabad/the-red-bistr...   \n",
       "2625  https://www.zomato.com/ahmedabad/kadak-bhagat-...   \n",
       "2626  https://www.zomato.com/ahmedabad/urban-khichdi...   \n",
       "...                                                 ...   \n",
       "5931  https://www.zomato.com/ahmedabad/kadak-bhagat-...   \n",
       "5932  https://www.zomato.com/ahmedabad/whatta-waffle...   \n",
       "5933  https://www.zomato.com/ahmedabad/bayleaf-court...   \n",
       "5934  https://www.zomato.com/ahmedabad/so-hi-kebabs-...   \n",
       "5935  https://www.zomato.com/ahmedabad/kailash-parba...   \n",
       "\n",
       "                                                address       city  city_id  \\\n",
       "2622  205-206, Silve Radiance, Sindhu Bhawan Road, P...  Ahmedabad       11   \n",
       "2623    3rd Floor, Alpha One Mall, Vastrapur, Ahmedabad  Ahmedabad       11   \n",
       "2624  Armeida, Sindhu Bhavan Road, Off SG Road, Boda...  Ahmedabad       11   \n",
       "2625  1, First Floor, Dev Aurum Complex, Deer Cirle,...  Ahmedabad       11   \n",
       "2626  A -103, Shivalik Plaza, Opposite AMA, IIM Road...  Ahmedabad       11   \n",
       "...                                                 ...        ...      ...   \n",
       "5931  77, First Floor, Above Bata Showroom, Shrinath...  Ahmedabad       11   \n",
       "5932  Shop 3, Asian Square, Near Armieda, Sindhu Bha...  Ahmedabad       11   \n",
       "5933  Courtyard By Marriott, Ramdevnagar Cross Road,...  Ahmedabad       11   \n",
       "5934  103, Silver Radiance, Near Pakwan Cross Road, ...  Ahmedabad       11   \n",
       "5935  Unit 7, Silver Radiance Building, Sindhu Bhava...  Ahmedabad       11   \n",
       "\n",
       "                              locality   latitude  longitude  ... price_range  \\\n",
       "2622                          Bodakdev  23.038755  72.510887  ...           3   \n",
       "2623     Ahmedabad One Mall, Vastrapur  23.039770  72.531508  ...           3   \n",
       "2624                          Bodakdev  23.039852  72.509181  ...           3   \n",
       "2625                     Prahlad Nagar  23.012411  72.514392  ...           3   \n",
       "2626                         Vastrapur  23.028315  72.542458  ...           2   \n",
       "...                                ...        ...        ...  ...         ...   \n",
       "5931                        Mani Nagar  22.997577  72.604257  ...           3   \n",
       "5932                          Bodakdev  23.040044  72.509040  ...           2   \n",
       "5933  Courtyard By Marriott, Satellite  23.027774  72.512055  ...           4   \n",
       "5934                          Bodakdev  23.038594  72.510983  ...           3   \n",
       "5935                          Bodakdev  23.038741  72.510933  ...           3   \n",
       "\n",
       "      currency                                         highlights  \\\n",
       "2622       Rs.  ['Dinner', 'Cash', 'Takeaway Available', 'Cred...   \n",
       "2623       Rs.  ['No Alcohol Available', 'Debit Card', 'Credit...   \n",
       "2624       Rs.  ['Lunch', 'Delivery', 'Debit Card', 'Dinner', ...   \n",
       "2625       Rs.  ['Credit Card', 'Dinner', 'Cash', 'Debit Card'...   \n",
       "2626       Rs.  ['Dinner', 'Delivery', 'Debit Card', 'Lunch', ...   \n",
       "...        ...                                                ...   \n",
       "5931       Rs.  ['Dinner', 'Cash', 'Credit Card', 'Lunch', 'Ta...   \n",
       "5932       Rs.  ['Cash', 'Takeaway Available', 'Credit Card', ...   \n",
       "5933       Rs.  ['Cash', 'Takeaway Available', 'Dinner', 'Debi...   \n",
       "5934       Rs.  ['Dinner', 'Cash', 'Takeaway Available', 'Debi...   \n",
       "5935       Rs.  ['Dinner', 'Delivery', 'Debit Card', 'Lunch', ...   \n",
       "\n",
       "     aggregate_rating rating_text  votes  photo_count opentable_support  \\\n",
       "2622              4.5   Excellent   1434          773               0.0   \n",
       "2623              4.5   Excellent   1530          768               0.0   \n",
       "2624              4.6   Excellent    695          631               0.0   \n",
       "2625              4.4   Very Good    977          188               0.0   \n",
       "2626              4.7   Excellent    619          305               0.0   \n",
       "...               ...         ...    ...          ...               ...   \n",
       "5931              4.8   Excellent    897           79               0.0   \n",
       "5932              4.4   Very Good    533          720               0.0   \n",
       "5933              4.5   Excellent    395          418               0.0   \n",
       "5934              4.2   Very Good    340          147               0.0   \n",
       "5935              3.9        Good    242          218               0.0   \n",
       "\n",
       "     delivery  takeaway  \n",
       "2622       -1        -1  \n",
       "2623       -1        -1  \n",
       "2624       -1        -1  \n",
       "2625        1        -1  \n",
       "2626        1        -1  \n",
       "...       ...       ...  \n",
       "5931       -1        -1  \n",
       "5932        1        -1  \n",
       "5933       -1        -1  \n",
       "5934       -1        -1  \n",
       "5935       -1        -1  \n",
       "\n",
       "[3162 rows x 26 columns]"
      ]
     },
     "execution_count": 7,
     "metadata": {},
     "output_type": "execute_result"
    }
   ],
   "source": [
    "data[data['city']==\"Ahmedabad\"]"
   ]
  },
  {
   "cell_type": "code",
   "execution_count": 9,
   "id": "5f996a2c",
   "metadata": {},
   "outputs": [
    {
     "data": {
      "text/html": [
       "<div>\n",
       "<style scoped>\n",
       "    .dataframe tbody tr th:only-of-type {\n",
       "        vertical-align: middle;\n",
       "    }\n",
       "\n",
       "    .dataframe tbody tr th {\n",
       "        vertical-align: top;\n",
       "    }\n",
       "\n",
       "    .dataframe thead th {\n",
       "        text-align: right;\n",
       "    }\n",
       "</style>\n",
       "<table border=\"1\" class=\"dataframe\">\n",
       "  <thead>\n",
       "    <tr style=\"text-align: right;\">\n",
       "      <th></th>\n",
       "      <th>res_id</th>\n",
       "      <th>name</th>\n",
       "      <th>establishment</th>\n",
       "      <th>url</th>\n",
       "      <th>address</th>\n",
       "      <th>city</th>\n",
       "      <th>city_id</th>\n",
       "      <th>locality</th>\n",
       "      <th>latitude</th>\n",
       "      <th>longitude</th>\n",
       "      <th>...</th>\n",
       "      <th>price_range</th>\n",
       "      <th>currency</th>\n",
       "      <th>highlights</th>\n",
       "      <th>aggregate_rating</th>\n",
       "      <th>rating_text</th>\n",
       "      <th>votes</th>\n",
       "      <th>photo_count</th>\n",
       "      <th>opentable_support</th>\n",
       "      <th>delivery</th>\n",
       "      <th>takeaway</th>\n",
       "    </tr>\n",
       "  </thead>\n",
       "  <tbody>\n",
       "    <tr>\n",
       "      <th>159476</th>\n",
       "      <td>4000320</td>\n",
       "      <td>Haldiram</td>\n",
       "      <td>['Quick Bites']</td>\n",
       "      <td>https://www.zomato.com/patna/haldiram-kankarba...</td>\n",
       "      <td>Rajeswar Commercial Complex, Main Road, Kankar...</td>\n",
       "      <td>Patna</td>\n",
       "      <td>40</td>\n",
       "      <td>Kankarbagh</td>\n",
       "      <td>25.603185</td>\n",
       "      <td>85.154159</td>\n",
       "      <td>...</td>\n",
       "      <td>2</td>\n",
       "      <td>Rs.</td>\n",
       "      <td>['Takeaway Available', 'Credit Card', 'Lunch',...</td>\n",
       "      <td>4.5</td>\n",
       "      <td>Excellent</td>\n",
       "      <td>1235</td>\n",
       "      <td>131</td>\n",
       "      <td>0.0</td>\n",
       "      <td>-1</td>\n",
       "      <td>-1</td>\n",
       "    </tr>\n",
       "    <tr>\n",
       "      <th>159477</th>\n",
       "      <td>4000009</td>\n",
       "      <td>Domino's Pizza</td>\n",
       "      <td>['Quick Bites']</td>\n",
       "      <td>https://www.zomato.com/patna/dominos-pizza-kan...</td>\n",
       "      <td>DS-22, Jagdeva Plaza, Lohia Nagar, Main Road, ...</td>\n",
       "      <td>Patna</td>\n",
       "      <td>40</td>\n",
       "      <td>Kankarbagh</td>\n",
       "      <td>25.599735</td>\n",
       "      <td>85.155539</td>\n",
       "      <td>...</td>\n",
       "      <td>2</td>\n",
       "      <td>Rs.</td>\n",
       "      <td>['Lunch', 'Credit Card', 'No Alcohol Available...</td>\n",
       "      <td>4.1</td>\n",
       "      <td>Very Good</td>\n",
       "      <td>1477</td>\n",
       "      <td>138</td>\n",
       "      <td>0.0</td>\n",
       "      <td>-1</td>\n",
       "      <td>-1</td>\n",
       "    </tr>\n",
       "    <tr>\n",
       "      <th>159478</th>\n",
       "      <td>18573326</td>\n",
       "      <td>Biryani Mahal</td>\n",
       "      <td>['Casual Dining']</td>\n",
       "      <td>https://www.zomato.com/patna/biryani-mahal-kha...</td>\n",
       "      <td>Ashiana More, Ashiana-Digha Road, Near New Pas...</td>\n",
       "      <td>Patna</td>\n",
       "      <td>40</td>\n",
       "      <td>Khajpura</td>\n",
       "      <td>25.606397</td>\n",
       "      <td>85.080790</td>\n",
       "      <td>...</td>\n",
       "      <td>2</td>\n",
       "      <td>Rs.</td>\n",
       "      <td>['Credit Card', 'Lunch', 'Delivery', 'Cash', '...</td>\n",
       "      <td>4.2</td>\n",
       "      <td>Very Good</td>\n",
       "      <td>1042</td>\n",
       "      <td>42</td>\n",
       "      <td>0.0</td>\n",
       "      <td>-1</td>\n",
       "      <td>-1</td>\n",
       "    </tr>\n",
       "    <tr>\n",
       "      <th>159479</th>\n",
       "      <td>4000412</td>\n",
       "      <td>Aasman</td>\n",
       "      <td>['Casual Dining']</td>\n",
       "      <td>https://www.zomato.com/patna/aasman-fraser-roa...</td>\n",
       "      <td>7th Floor, Nutan Plaza, Bandar Bagicha, Fraser...</td>\n",
       "      <td>Patna</td>\n",
       "      <td>40</td>\n",
       "      <td>Fraser Road Area</td>\n",
       "      <td>25.608749</td>\n",
       "      <td>85.136199</td>\n",
       "      <td>...</td>\n",
       "      <td>3</td>\n",
       "      <td>Rs.</td>\n",
       "      <td>['Credit Card', 'Lunch', 'Debit Card', 'Takeaw...</td>\n",
       "      <td>4.8</td>\n",
       "      <td>Excellent</td>\n",
       "      <td>949</td>\n",
       "      <td>514</td>\n",
       "      <td>0.0</td>\n",
       "      <td>-1</td>\n",
       "      <td>-1</td>\n",
       "    </tr>\n",
       "    <tr>\n",
       "      <th>159480</th>\n",
       "      <td>18749515</td>\n",
       "      <td>Harilal's</td>\n",
       "      <td>['Quick Bites']</td>\n",
       "      <td>https://www.zomato.com/patna/harilals-kankarba...</td>\n",
       "      <td>PC Colony, Gaytri Mandir, Patrakar Nagar, Kank...</td>\n",
       "      <td>Patna</td>\n",
       "      <td>40</td>\n",
       "      <td>Kankarbagh</td>\n",
       "      <td>25.599276</td>\n",
       "      <td>85.154668</td>\n",
       "      <td>...</td>\n",
       "      <td>1</td>\n",
       "      <td>Rs.</td>\n",
       "      <td>['Lunch', 'Takeaway Available', 'Debit Card', ...</td>\n",
       "      <td>4.3</td>\n",
       "      <td>Very Good</td>\n",
       "      <td>600</td>\n",
       "      <td>59</td>\n",
       "      <td>0.0</td>\n",
       "      <td>-1</td>\n",
       "      <td>-1</td>\n",
       "    </tr>\n",
       "    <tr>\n",
       "      <th>...</th>\n",
       "      <td>...</td>\n",
       "      <td>...</td>\n",
       "      <td>...</td>\n",
       "      <td>...</td>\n",
       "      <td>...</td>\n",
       "      <td>...</td>\n",
       "      <td>...</td>\n",
       "      <td>...</td>\n",
       "      <td>...</td>\n",
       "      <td>...</td>\n",
       "      <td>...</td>\n",
       "      <td>...</td>\n",
       "      <td>...</td>\n",
       "      <td>...</td>\n",
       "      <td>...</td>\n",
       "      <td>...</td>\n",
       "      <td>...</td>\n",
       "      <td>...</td>\n",
       "      <td>...</td>\n",
       "      <td>...</td>\n",
       "      <td>...</td>\n",
       "    </tr>\n",
       "    <tr>\n",
       "      <th>162018</th>\n",
       "      <td>4000044</td>\n",
       "      <td>Bikaner Sweets</td>\n",
       "      <td>['Dessert Parlour']</td>\n",
       "      <td>https://www.zomato.com/patna/bikaner-sweets-sr...</td>\n",
       "      <td>23B, Azad Bhawan, Boring Road, Sri Krishnapuri...</td>\n",
       "      <td>Patna</td>\n",
       "      <td>40</td>\n",
       "      <td>Sri Krishnapuri</td>\n",
       "      <td>25.610955</td>\n",
       "      <td>85.117779</td>\n",
       "      <td>...</td>\n",
       "      <td>2</td>\n",
       "      <td>Rs.</td>\n",
       "      <td>['Breakfast', 'Debit Card', 'Lunch', 'Credit C...</td>\n",
       "      <td>4.2</td>\n",
       "      <td>Very Good</td>\n",
       "      <td>245</td>\n",
       "      <td>30</td>\n",
       "      <td>0.0</td>\n",
       "      <td>-1</td>\n",
       "      <td>-1</td>\n",
       "    </tr>\n",
       "    <tr>\n",
       "      <th>162019</th>\n",
       "      <td>4000212</td>\n",
       "      <td>Gokul</td>\n",
       "      <td>['Dessert Parlour']</td>\n",
       "      <td>https://www.zomato.com/patna/gokul-golambar?ut...</td>\n",
       "      <td>The Premiere Square Building, East Gandhi Maid...</td>\n",
       "      <td>Patna</td>\n",
       "      <td>40</td>\n",
       "      <td>Golambar</td>\n",
       "      <td>25.617711</td>\n",
       "      <td>85.148524</td>\n",
       "      <td>...</td>\n",
       "      <td>1</td>\n",
       "      <td>Rs.</td>\n",
       "      <td>['Credit Card', 'No Seating Available', 'Cash'...</td>\n",
       "      <td>3.6</td>\n",
       "      <td>Good</td>\n",
       "      <td>410</td>\n",
       "      <td>3</td>\n",
       "      <td>0.0</td>\n",
       "      <td>-1</td>\n",
       "      <td>-1</td>\n",
       "    </tr>\n",
       "    <tr>\n",
       "      <th>162020</th>\n",
       "      <td>4000230</td>\n",
       "      <td>Palsons</td>\n",
       "      <td>['Dessert Parlour']</td>\n",
       "      <td>https://www.zomato.com/patna/palsons-fraser-ro...</td>\n",
       "      <td>New Dakbunglow Road, Near Dakbunglow Crossing,...</td>\n",
       "      <td>Patna</td>\n",
       "      <td>40</td>\n",
       "      <td>Fraser Road Area</td>\n",
       "      <td>25.609854</td>\n",
       "      <td>85.138283</td>\n",
       "      <td>...</td>\n",
       "      <td>1</td>\n",
       "      <td>Rs.</td>\n",
       "      <td>['No Seating Available', 'Cash', 'Takeaway Ava...</td>\n",
       "      <td>3.6</td>\n",
       "      <td>Good</td>\n",
       "      <td>230</td>\n",
       "      <td>21</td>\n",
       "      <td>0.0</td>\n",
       "      <td>-1</td>\n",
       "      <td>-1</td>\n",
       "    </tr>\n",
       "    <tr>\n",
       "      <th>162021</th>\n",
       "      <td>4000055</td>\n",
       "      <td>Sweet Home</td>\n",
       "      <td>['Quick Bites']</td>\n",
       "      <td>https://www.zomato.com/patna/sweet-home-sri-kr...</td>\n",
       "      <td>8, Alankar Place, Boring Road Chauraha, Patna</td>\n",
       "      <td>Patna</td>\n",
       "      <td>40</td>\n",
       "      <td>Sri Krishnapuri</td>\n",
       "      <td>25.612047</td>\n",
       "      <td>85.119530</td>\n",
       "      <td>...</td>\n",
       "      <td>1</td>\n",
       "      <td>Rs.</td>\n",
       "      <td>['No Seating Available', 'Credit Card', 'Dinne...</td>\n",
       "      <td>4.2</td>\n",
       "      <td>Very Good</td>\n",
       "      <td>215</td>\n",
       "      <td>29</td>\n",
       "      <td>0.0</td>\n",
       "      <td>-1</td>\n",
       "      <td>-1</td>\n",
       "    </tr>\n",
       "    <tr>\n",
       "      <th>162022</th>\n",
       "      <td>4000132</td>\n",
       "      <td>Shree Ladoo Gopal Sweets</td>\n",
       "      <td>['Sweet Shop']</td>\n",
       "      <td>https://www.zomato.com/patna/shree-ladoo-gopal...</td>\n",
       "      <td>191, Patliputra Colony, Patna</td>\n",
       "      <td>Patna</td>\n",
       "      <td>40</td>\n",
       "      <td>Patliputra Colony</td>\n",
       "      <td>25.626131</td>\n",
       "      <td>85.110616</td>\n",
       "      <td>...</td>\n",
       "      <td>1</td>\n",
       "      <td>Rs.</td>\n",
       "      <td>['No Alcohol Available', 'Cash', 'Takeaway Ava...</td>\n",
       "      <td>3.6</td>\n",
       "      <td>Good</td>\n",
       "      <td>76</td>\n",
       "      <td>8</td>\n",
       "      <td>0.0</td>\n",
       "      <td>-1</td>\n",
       "      <td>-1</td>\n",
       "    </tr>\n",
       "  </tbody>\n",
       "</table>\n",
       "<p>2547 rows × 26 columns</p>\n",
       "</div>"
      ],
      "text/plain": [
       "          res_id                      name        establishment  \\\n",
       "159476   4000320                  Haldiram      ['Quick Bites']   \n",
       "159477   4000009            Domino's Pizza      ['Quick Bites']   \n",
       "159478  18573326             Biryani Mahal    ['Casual Dining']   \n",
       "159479   4000412                    Aasman    ['Casual Dining']   \n",
       "159480  18749515                 Harilal's      ['Quick Bites']   \n",
       "...          ...                       ...                  ...   \n",
       "162018   4000044            Bikaner Sweets  ['Dessert Parlour']   \n",
       "162019   4000212                     Gokul  ['Dessert Parlour']   \n",
       "162020   4000230                   Palsons  ['Dessert Parlour']   \n",
       "162021   4000055                Sweet Home      ['Quick Bites']   \n",
       "162022   4000132  Shree Ladoo Gopal Sweets       ['Sweet Shop']   \n",
       "\n",
       "                                                      url  \\\n",
       "159476  https://www.zomato.com/patna/haldiram-kankarba...   \n",
       "159477  https://www.zomato.com/patna/dominos-pizza-kan...   \n",
       "159478  https://www.zomato.com/patna/biryani-mahal-kha...   \n",
       "159479  https://www.zomato.com/patna/aasman-fraser-roa...   \n",
       "159480  https://www.zomato.com/patna/harilals-kankarba...   \n",
       "...                                                   ...   \n",
       "162018  https://www.zomato.com/patna/bikaner-sweets-sr...   \n",
       "162019  https://www.zomato.com/patna/gokul-golambar?ut...   \n",
       "162020  https://www.zomato.com/patna/palsons-fraser-ro...   \n",
       "162021  https://www.zomato.com/patna/sweet-home-sri-kr...   \n",
       "162022  https://www.zomato.com/patna/shree-ladoo-gopal...   \n",
       "\n",
       "                                                  address   city  city_id  \\\n",
       "159476  Rajeswar Commercial Complex, Main Road, Kankar...  Patna       40   \n",
       "159477  DS-22, Jagdeva Plaza, Lohia Nagar, Main Road, ...  Patna       40   \n",
       "159478  Ashiana More, Ashiana-Digha Road, Near New Pas...  Patna       40   \n",
       "159479  7th Floor, Nutan Plaza, Bandar Bagicha, Fraser...  Patna       40   \n",
       "159480  PC Colony, Gaytri Mandir, Patrakar Nagar, Kank...  Patna       40   \n",
       "...                                                   ...    ...      ...   \n",
       "162018  23B, Azad Bhawan, Boring Road, Sri Krishnapuri...  Patna       40   \n",
       "162019  The Premiere Square Building, East Gandhi Maid...  Patna       40   \n",
       "162020  New Dakbunglow Road, Near Dakbunglow Crossing,...  Patna       40   \n",
       "162021      8, Alankar Place, Boring Road Chauraha, Patna  Patna       40   \n",
       "162022                      191, Patliputra Colony, Patna  Patna       40   \n",
       "\n",
       "                 locality   latitude  longitude  ... price_range  currency  \\\n",
       "159476         Kankarbagh  25.603185  85.154159  ...           2       Rs.   \n",
       "159477         Kankarbagh  25.599735  85.155539  ...           2       Rs.   \n",
       "159478           Khajpura  25.606397  85.080790  ...           2       Rs.   \n",
       "159479   Fraser Road Area  25.608749  85.136199  ...           3       Rs.   \n",
       "159480         Kankarbagh  25.599276  85.154668  ...           1       Rs.   \n",
       "...                   ...        ...        ...  ...         ...       ...   \n",
       "162018    Sri Krishnapuri  25.610955  85.117779  ...           2       Rs.   \n",
       "162019           Golambar  25.617711  85.148524  ...           1       Rs.   \n",
       "162020   Fraser Road Area  25.609854  85.138283  ...           1       Rs.   \n",
       "162021    Sri Krishnapuri  25.612047  85.119530  ...           1       Rs.   \n",
       "162022  Patliputra Colony  25.626131  85.110616  ...           1       Rs.   \n",
       "\n",
       "                                               highlights aggregate_rating  \\\n",
       "159476  ['Takeaway Available', 'Credit Card', 'Lunch',...              4.5   \n",
       "159477  ['Lunch', 'Credit Card', 'No Alcohol Available...              4.1   \n",
       "159478  ['Credit Card', 'Lunch', 'Delivery', 'Cash', '...              4.2   \n",
       "159479  ['Credit Card', 'Lunch', 'Debit Card', 'Takeaw...              4.8   \n",
       "159480  ['Lunch', 'Takeaway Available', 'Debit Card', ...              4.3   \n",
       "...                                                   ...              ...   \n",
       "162018  ['Breakfast', 'Debit Card', 'Lunch', 'Credit C...              4.2   \n",
       "162019  ['Credit Card', 'No Seating Available', 'Cash'...              3.6   \n",
       "162020  ['No Seating Available', 'Cash', 'Takeaway Ava...              3.6   \n",
       "162021  ['No Seating Available', 'Credit Card', 'Dinne...              4.2   \n",
       "162022  ['No Alcohol Available', 'Cash', 'Takeaway Ava...              3.6   \n",
       "\n",
       "       rating_text  votes  photo_count opentable_support delivery  takeaway  \n",
       "159476   Excellent   1235          131               0.0       -1        -1  \n",
       "159477   Very Good   1477          138               0.0       -1        -1  \n",
       "159478   Very Good   1042           42               0.0       -1        -1  \n",
       "159479   Excellent    949          514               0.0       -1        -1  \n",
       "159480   Very Good    600           59               0.0       -1        -1  \n",
       "...            ...    ...          ...               ...      ...       ...  \n",
       "162018   Very Good    245           30               0.0       -1        -1  \n",
       "162019        Good    410            3               0.0       -1        -1  \n",
       "162020        Good    230           21               0.0       -1        -1  \n",
       "162021   Very Good    215           29               0.0       -1        -1  \n",
       "162022        Good     76            8               0.0       -1        -1  \n",
       "\n",
       "[2547 rows x 26 columns]"
      ]
     },
     "execution_count": 9,
     "metadata": {},
     "output_type": "execute_result"
    }
   ],
   "source": [
    "data[data['city']==\"Patna\"]"
   ]
  },
  {
   "cell_type": "code",
   "execution_count": 10,
   "id": "d62c0f8d",
   "metadata": {},
   "outputs": [
    {
     "data": {
      "text/plain": [
       "(211944, 26)"
      ]
     },
     "execution_count": 10,
     "metadata": {},
     "output_type": "execute_result"
    }
   ],
   "source": [
    "data.shape"
   ]
  },
  {
   "cell_type": "code",
   "execution_count": 11,
   "id": "431cbed3",
   "metadata": {},
   "outputs": [
    {
     "name": "stdout",
     "output_type": "stream",
     "text": [
      "<class 'pandas.core.frame.DataFrame'>\n",
      "RangeIndex: 211944 entries, 0 to 211943\n",
      "Data columns (total 26 columns):\n",
      " #   Column                Non-Null Count   Dtype  \n",
      "---  ------                --------------   -----  \n",
      " 0   res_id                211944 non-null  int64  \n",
      " 1   name                  211944 non-null  object \n",
      " 2   establishment         211944 non-null  object \n",
      " 3   url                   211944 non-null  object \n",
      " 4   address               211810 non-null  object \n",
      " 5   city                  211944 non-null  object \n",
      " 6   city_id               211944 non-null  int64  \n",
      " 7   locality              211944 non-null  object \n",
      " 8   latitude              211944 non-null  float64\n",
      " 9   longitude             211944 non-null  float64\n",
      " 10  zipcode               48757 non-null   object \n",
      " 11  country_id            211944 non-null  int64  \n",
      " 12  locality_verbose      211944 non-null  object \n",
      " 13  cuisines              210553 non-null  object \n",
      " 14  timings               208070 non-null  object \n",
      " 15  average_cost_for_two  211944 non-null  int64  \n",
      " 16  price_range           211944 non-null  int64  \n",
      " 17  currency              211944 non-null  object \n",
      " 18  highlights            211944 non-null  object \n",
      " 19  aggregate_rating      211944 non-null  float64\n",
      " 20  rating_text           211944 non-null  object \n",
      " 21  votes                 211944 non-null  int64  \n",
      " 22  photo_count           211944 non-null  int64  \n",
      " 23  opentable_support     211896 non-null  float64\n",
      " 24  delivery              211944 non-null  int64  \n",
      " 25  takeaway              211944 non-null  int64  \n",
      "dtypes: float64(4), int64(9), object(13)\n",
      "memory usage: 42.0+ MB\n"
     ]
    }
   ],
   "source": [
    "data.info()"
   ]
  },
  {
   "cell_type": "code",
   "execution_count": 12,
   "id": "cf53337c",
   "metadata": {},
   "outputs": [
    {
     "data": {
      "text/html": [
       "<div>\n",
       "<style scoped>\n",
       "    .dataframe tbody tr th:only-of-type {\n",
       "        vertical-align: middle;\n",
       "    }\n",
       "\n",
       "    .dataframe tbody tr th {\n",
       "        vertical-align: top;\n",
       "    }\n",
       "\n",
       "    .dataframe thead th {\n",
       "        text-align: right;\n",
       "    }\n",
       "</style>\n",
       "<table border=\"1\" class=\"dataframe\">\n",
       "  <thead>\n",
       "    <tr style=\"text-align: right;\">\n",
       "      <th></th>\n",
       "      <th>res_id</th>\n",
       "      <th>city_id</th>\n",
       "      <th>latitude</th>\n",
       "      <th>longitude</th>\n",
       "      <th>country_id</th>\n",
       "      <th>average_cost_for_two</th>\n",
       "      <th>price_range</th>\n",
       "      <th>aggregate_rating</th>\n",
       "      <th>votes</th>\n",
       "      <th>photo_count</th>\n",
       "      <th>opentable_support</th>\n",
       "      <th>delivery</th>\n",
       "      <th>takeaway</th>\n",
       "    </tr>\n",
       "  </thead>\n",
       "  <tbody>\n",
       "    <tr>\n",
       "      <th>count</th>\n",
       "      <td>2.119440e+05</td>\n",
       "      <td>211944.000000</td>\n",
       "      <td>211944.000000</td>\n",
       "      <td>211944.000000</td>\n",
       "      <td>211944.0</td>\n",
       "      <td>211944.000000</td>\n",
       "      <td>211944.000000</td>\n",
       "      <td>211944.000000</td>\n",
       "      <td>211944.000000</td>\n",
       "      <td>211944.000000</td>\n",
       "      <td>211896.0</td>\n",
       "      <td>211944.000000</td>\n",
       "      <td>211944.0</td>\n",
       "    </tr>\n",
       "    <tr>\n",
       "      <th>mean</th>\n",
       "      <td>1.349411e+07</td>\n",
       "      <td>4746.785434</td>\n",
       "      <td>21.499758</td>\n",
       "      <td>77.615276</td>\n",
       "      <td>1.0</td>\n",
       "      <td>595.812229</td>\n",
       "      <td>1.882535</td>\n",
       "      <td>3.395937</td>\n",
       "      <td>378.001864</td>\n",
       "      <td>256.971224</td>\n",
       "      <td>0.0</td>\n",
       "      <td>-0.255907</td>\n",
       "      <td>-1.0</td>\n",
       "    </tr>\n",
       "    <tr>\n",
       "      <th>std</th>\n",
       "      <td>7.883722e+06</td>\n",
       "      <td>5568.766386</td>\n",
       "      <td>22.781331</td>\n",
       "      <td>7.500104</td>\n",
       "      <td>0.0</td>\n",
       "      <td>606.239363</td>\n",
       "      <td>0.892989</td>\n",
       "      <td>1.283642</td>\n",
       "      <td>925.333370</td>\n",
       "      <td>867.668940</td>\n",
       "      <td>0.0</td>\n",
       "      <td>0.964172</td>\n",
       "      <td>0.0</td>\n",
       "    </tr>\n",
       "    <tr>\n",
       "      <th>min</th>\n",
       "      <td>5.000000e+01</td>\n",
       "      <td>1.000000</td>\n",
       "      <td>0.000000</td>\n",
       "      <td>0.000000</td>\n",
       "      <td>1.0</td>\n",
       "      <td>0.000000</td>\n",
       "      <td>1.000000</td>\n",
       "      <td>0.000000</td>\n",
       "      <td>-18.000000</td>\n",
       "      <td>0.000000</td>\n",
       "      <td>0.0</td>\n",
       "      <td>-1.000000</td>\n",
       "      <td>-1.0</td>\n",
       "    </tr>\n",
       "    <tr>\n",
       "      <th>25%</th>\n",
       "      <td>3.301027e+06</td>\n",
       "      <td>11.000000</td>\n",
       "      <td>15.496071</td>\n",
       "      <td>74.877961</td>\n",
       "      <td>1.0</td>\n",
       "      <td>250.000000</td>\n",
       "      <td>1.000000</td>\n",
       "      <td>3.300000</td>\n",
       "      <td>16.000000</td>\n",
       "      <td>3.000000</td>\n",
       "      <td>0.0</td>\n",
       "      <td>-1.000000</td>\n",
       "      <td>-1.0</td>\n",
       "    </tr>\n",
       "    <tr>\n",
       "      <th>50%</th>\n",
       "      <td>1.869573e+07</td>\n",
       "      <td>34.000000</td>\n",
       "      <td>22.514494</td>\n",
       "      <td>77.425971</td>\n",
       "      <td>1.0</td>\n",
       "      <td>400.000000</td>\n",
       "      <td>2.000000</td>\n",
       "      <td>3.800000</td>\n",
       "      <td>100.000000</td>\n",
       "      <td>18.000000</td>\n",
       "      <td>0.0</td>\n",
       "      <td>-1.000000</td>\n",
       "      <td>-1.0</td>\n",
       "    </tr>\n",
       "    <tr>\n",
       "      <th>75%</th>\n",
       "      <td>1.881297e+07</td>\n",
       "      <td>11306.000000</td>\n",
       "      <td>26.841667</td>\n",
       "      <td>80.219323</td>\n",
       "      <td>1.0</td>\n",
       "      <td>700.000000</td>\n",
       "      <td>2.000000</td>\n",
       "      <td>4.100000</td>\n",
       "      <td>362.000000</td>\n",
       "      <td>128.000000</td>\n",
       "      <td>0.0</td>\n",
       "      <td>1.000000</td>\n",
       "      <td>-1.0</td>\n",
       "    </tr>\n",
       "    <tr>\n",
       "      <th>max</th>\n",
       "      <td>1.915979e+07</td>\n",
       "      <td>11354.000000</td>\n",
       "      <td>10000.000000</td>\n",
       "      <td>91.832769</td>\n",
       "      <td>1.0</td>\n",
       "      <td>30000.000000</td>\n",
       "      <td>4.000000</td>\n",
       "      <td>4.900000</td>\n",
       "      <td>42539.000000</td>\n",
       "      <td>17702.000000</td>\n",
       "      <td>0.0</td>\n",
       "      <td>1.000000</td>\n",
       "      <td>-1.0</td>\n",
       "    </tr>\n",
       "  </tbody>\n",
       "</table>\n",
       "</div>"
      ],
      "text/plain": [
       "             res_id        city_id       latitude      longitude  country_id  \\\n",
       "count  2.119440e+05  211944.000000  211944.000000  211944.000000    211944.0   \n",
       "mean   1.349411e+07    4746.785434      21.499758      77.615276         1.0   \n",
       "std    7.883722e+06    5568.766386      22.781331       7.500104         0.0   \n",
       "min    5.000000e+01       1.000000       0.000000       0.000000         1.0   \n",
       "25%    3.301027e+06      11.000000      15.496071      74.877961         1.0   \n",
       "50%    1.869573e+07      34.000000      22.514494      77.425971         1.0   \n",
       "75%    1.881297e+07   11306.000000      26.841667      80.219323         1.0   \n",
       "max    1.915979e+07   11354.000000   10000.000000      91.832769         1.0   \n",
       "\n",
       "       average_cost_for_two    price_range  aggregate_rating          votes  \\\n",
       "count         211944.000000  211944.000000     211944.000000  211944.000000   \n",
       "mean             595.812229       1.882535          3.395937     378.001864   \n",
       "std              606.239363       0.892989          1.283642     925.333370   \n",
       "min                0.000000       1.000000          0.000000     -18.000000   \n",
       "25%              250.000000       1.000000          3.300000      16.000000   \n",
       "50%              400.000000       2.000000          3.800000     100.000000   \n",
       "75%              700.000000       2.000000          4.100000     362.000000   \n",
       "max            30000.000000       4.000000          4.900000   42539.000000   \n",
       "\n",
       "         photo_count  opentable_support       delivery  takeaway  \n",
       "count  211944.000000           211896.0  211944.000000  211944.0  \n",
       "mean      256.971224                0.0      -0.255907      -1.0  \n",
       "std       867.668940                0.0       0.964172       0.0  \n",
       "min         0.000000                0.0      -1.000000      -1.0  \n",
       "25%         3.000000                0.0      -1.000000      -1.0  \n",
       "50%        18.000000                0.0      -1.000000      -1.0  \n",
       "75%       128.000000                0.0       1.000000      -1.0  \n",
       "max     17702.000000                0.0       1.000000      -1.0  "
      ]
     },
     "execution_count": 12,
     "metadata": {},
     "output_type": "execute_result"
    }
   ],
   "source": [
    "data.describe()"
   ]
  },
  {
   "cell_type": "code",
   "execution_count": 13,
   "id": "fd94c6dd",
   "metadata": {},
   "outputs": [
    {
     "data": {
      "text/plain": [
       "(55568, 26)"
      ]
     },
     "execution_count": 13,
     "metadata": {},
     "output_type": "execute_result"
    }
   ],
   "source": [
    "data.drop_duplicates(['res_id'],keep='first',inplace=True)\n",
    "data.shape"
   ]
  },
  {
   "cell_type": "code",
   "execution_count": 14,
   "id": "41ee8314",
   "metadata": {},
   "outputs": [
    {
     "data": {
      "text/plain": [
       "res_id                      0\n",
       "name                        0\n",
       "establishment               0\n",
       "url                         0\n",
       "address                    18\n",
       "city                        0\n",
       "city_id                     0\n",
       "locality                    0\n",
       "latitude                    0\n",
       "longitude                   0\n",
       "zipcode                 44623\n",
       "country_id                  0\n",
       "locality_verbose            0\n",
       "cuisines                  470\n",
       "timings                  1003\n",
       "average_cost_for_two        0\n",
       "price_range                 0\n",
       "currency                    0\n",
       "highlights                  0\n",
       "aggregate_rating            0\n",
       "rating_text                 0\n",
       "votes                       0\n",
       "photo_count                 0\n",
       "opentable_support          12\n",
       "delivery                    0\n",
       "takeaway                    0\n",
       "dtype: int64"
      ]
     },
     "execution_count": 14,
     "metadata": {},
     "output_type": "execute_result"
    }
   ],
   "source": [
    "data.isnull().sum()"
   ]
  },
  {
   "cell_type": "code",
   "execution_count": 15,
   "id": "f64c0f2f",
   "metadata": {},
   "outputs": [
    {
     "data": {
      "text/plain": [
       "array([\"['Quick Bites']\", \"['Casual Dining']\", \"['Bakery']\", \"['Café']\",\n",
       "       \"['Dhaba']\", \"['Bhojanalya']\", \"['Bar']\", \"['Sweet Shop']\",\n",
       "       \"['Fine Dining']\", \"['Food Truck']\", \"['Dessert Parlour']\",\n",
       "       \"['Lounge']\", \"['Pub']\", \"['Beverage Shop']\", \"['Kiosk']\",\n",
       "       \"['Paan Shop']\", \"['Confectionery']\", '[]', \"['Shack']\",\n",
       "       \"['Club']\", \"['Food Court']\", \"['Mess']\", \"['Butcher Shop']\",\n",
       "       \"['Microbrewery']\", \"['Cocktail Bar']\", \"['Pop up']\",\n",
       "       \"['Irani Cafe']\"], dtype=object)"
      ]
     },
     "execution_count": 15,
     "metadata": {},
     "output_type": "execute_result"
    }
   ],
   "source": [
    " data['establishment'].unique()"
   ]
  },
  {
   "cell_type": "code",
   "execution_count": 17,
   "id": "3915de42",
   "metadata": {},
   "outputs": [
    {
     "name": "stdout",
     "output_type": "stream",
     "text": [
      "['Quick Bites']\n",
      "<class 'str'>\n"
     ]
    }
   ],
   "source": [
    "print(data['establishment'].unique()[0])\n",
    "print(type(data['establishment'].unique()[0]))"
   ]
  },
  {
   "cell_type": "code",
   "execution_count": 18,
   "id": "b2d90c2d",
   "metadata": {},
   "outputs": [
    {
     "name": "stdout",
     "output_type": "stream",
     "text": [
      "['Quick Bites']\n",
      "Quick Bites\n",
      "['Quick Bites' 'Casual Dining' 'Bakery' 'Café' 'Dhaba' 'Bhojanalya' 'Bar'\n",
      " 'Sweet Shop' 'Fine Dining' 'Food Truck' 'Dessert Parlour' 'Lounge' 'Pub'\n",
      " 'Beverage Shop' 'Kiosk' 'Paan Shop' 'Confectionery' '' 'Shack' 'Club'\n",
      " 'Food Court' 'Mess' 'Butcher Shop' 'Microbrewery' 'Cocktail Bar' 'Pop up'\n",
      " 'Irani Cafe']\n",
      "['Quick Bites' 'Casual Dining' 'Bakery' 'Café' 'Dhaba' 'Bhojanalya' 'Bar'\n",
      " 'Sweet Shop' 'Fine Dining' 'Food Truck' 'Dessert Parlour' 'Lounge' 'Pub'\n",
      " 'Beverage Shop' 'Kiosk' 'Paan Shop' 'Confectionery' 'NA' 'Shack' 'Club'\n",
      " 'Food Court' 'Mess' 'Butcher Shop' 'Microbrewery' 'Cocktail Bar' 'Pop up'\n",
      " 'Irani Cafe']\n"
     ]
    }
   ],
   "source": [
    "print(data['establishment'].unique()[0])\n",
    "data['establishment']=data['establishment'].apply(lambda x:x[2:-2])\n",
    "print(data['establishment'].unique()[0])\n",
    "\n",
    "print(data['establishment'].unique())\n",
    "data['establishment']=data['establishment'].apply(lambda x:np.where(x==\"\",\"NA\",x))\n",
    "print(data['establishment'].unique())"
   ]
  },
  {
   "cell_type": "code",
   "execution_count": 20,
   "id": "e479a802",
   "metadata": {},
   "outputs": [
    {
     "data": {
      "text/plain": [
       "218"
      ]
     },
     "execution_count": 20,
     "metadata": {},
     "output_type": "execute_result"
    }
   ],
   "source": [
    "len(data[data['city']=='Shimla'])"
   ]
  },
  {
   "cell_type": "code",
   "execution_count": 21,
   "id": "f182485e",
   "metadata": {},
   "outputs": [
    {
     "data": {
      "text/plain": [
       "833"
      ]
     },
     "execution_count": 21,
     "metadata": {},
     "output_type": "execute_result"
    }
   ],
   "source": [
    "len(data[data['city']=='Agra'])"
   ]
  },
  {
   "cell_type": "code",
   "execution_count": 22,
   "id": "8dafbce9",
   "metadata": {},
   "outputs": [
    {
     "data": {
      "text/plain": [
       "99"
      ]
     },
     "execution_count": 22,
     "metadata": {},
     "output_type": "execute_result"
    }
   ],
   "source": [
    "len(data['city'].unique())"
   ]
  },
  {
   "cell_type": "code",
   "execution_count": 23,
   "id": "4efb8567",
   "metadata": {},
   "outputs": [
    {
     "data": {
      "text/plain": [
       "array(['Agra', 'Ahmedabad', 'Gandhinagar', 'Ajmer', 'Alappuzha',\n",
       "       'Allahabad', 'Amravati', 'Amritsar', 'Aurangabad', 'Bangalore',\n",
       "       'Bhopal', 'Bhubaneshwar', 'Chandigarh', 'Mohali', 'Panchkula',\n",
       "       'Zirakpur', 'Nayagaon', 'Chennai', 'Coimbatore', 'Cuttack',\n",
       "       'Darjeeling', 'Dehradun', 'New Delhi', 'Gurgaon', 'Noida',\n",
       "       'Faridabad', 'Ghaziabad', 'Greater Noida', 'Dharamshala',\n",
       "       'Gangtok', 'Goa', 'Gorakhpur', 'Guntur', 'Guwahati', 'Gwalior',\n",
       "       'Haridwar', 'Hyderabad', 'Secunderabad', 'Indore', 'Jabalpur',\n",
       "       'Jaipur', 'Jalandhar', 'Jammu', 'Jamnagar', 'Jamshedpur', 'Jhansi',\n",
       "       'Jodhpur', 'Junagadh', 'Kanpur', 'Kharagpur', 'Kochi', 'Kolhapur',\n",
       "       'Kolkata', 'Howrah', 'Kota', 'Lucknow', 'Ludhiana', 'Madurai',\n",
       "       'Manali', 'Mangalore', 'Manipal', 'Udupi', 'Meerut', 'Mumbai',\n",
       "       'Thane', 'Navi Mumbai', 'Mussoorie', 'Mysore', 'Nagpur',\n",
       "       'Nainital', 'Nasik', 'Nashik', 'Neemrana', 'Ooty', 'Palakkad',\n",
       "       'Patiala', 'Patna', 'Puducherry', 'Pune', 'Pushkar', 'Raipur',\n",
       "       'Rajkot', 'Ranchi', 'Rishikesh', 'Salem', 'Shimla', 'Siliguri',\n",
       "       'Srinagar', 'Surat', 'Thrissur', 'Tirupati', 'Trichy',\n",
       "       'Trivandrum', 'Udaipur', 'Varanasi', 'Vellore', 'Vijayawada',\n",
       "       'Vizag', 'Vadodara'], dtype=object)"
      ]
     },
     "execution_count": 23,
     "metadata": {},
     "output_type": "execute_result"
    }
   ],
   "source": [
    "data['city'].unique()"
   ]
  },
  {
   "cell_type": "code",
   "execution_count": 24,
   "id": "dbe31e08",
   "metadata": {},
   "outputs": [
    {
     "data": {
      "text/html": [
       "<div>\n",
       "<style scoped>\n",
       "    .dataframe tbody tr th:only-of-type {\n",
       "        vertical-align: middle;\n",
       "    }\n",
       "\n",
       "    .dataframe tbody tr th {\n",
       "        vertical-align: top;\n",
       "    }\n",
       "\n",
       "    .dataframe thead th {\n",
       "        text-align: right;\n",
       "    }\n",
       "</style>\n",
       "<table border=\"1\" class=\"dataframe\">\n",
       "  <thead>\n",
       "    <tr style=\"text-align: right;\">\n",
       "      <th></th>\n",
       "      <th>res_id</th>\n",
       "      <th>name</th>\n",
       "      <th>establishment</th>\n",
       "      <th>url</th>\n",
       "      <th>address</th>\n",
       "      <th>city</th>\n",
       "      <th>city_id</th>\n",
       "      <th>locality</th>\n",
       "      <th>latitude</th>\n",
       "      <th>longitude</th>\n",
       "      <th>...</th>\n",
       "      <th>price_range</th>\n",
       "      <th>currency</th>\n",
       "      <th>highlights</th>\n",
       "      <th>aggregate_rating</th>\n",
       "      <th>rating_text</th>\n",
       "      <th>votes</th>\n",
       "      <th>photo_count</th>\n",
       "      <th>opentable_support</th>\n",
       "      <th>delivery</th>\n",
       "      <th>takeaway</th>\n",
       "    </tr>\n",
       "  </thead>\n",
       "  <tbody>\n",
       "    <tr>\n",
       "      <th>112136</th>\n",
       "      <td>18815112</td>\n",
       "      <td>Akkis Bistro</td>\n",
       "      <td>Casual Dining</td>\n",
       "      <td>https://www.zomato.com/kolhapur/akkis-bistro-k...</td>\n",
       "      <td>Shop No 3 And 4, Tarabai Park, Kolhapur - 4160...</td>\n",
       "      <td>Kolhapur</td>\n",
       "      <td>11334</td>\n",
       "      <td>Kasaba Bawada</td>\n",
       "      <td>16.709550</td>\n",
       "      <td>74.241641</td>\n",
       "      <td>...</td>\n",
       "      <td>1</td>\n",
       "      <td>Rs.</td>\n",
       "      <td>['Cash', 'Credit Card', 'Debit Card']</td>\n",
       "      <td>4.1</td>\n",
       "      <td>Very Good</td>\n",
       "      <td>40</td>\n",
       "      <td>34</td>\n",
       "      <td>0.0</td>\n",
       "      <td>1</td>\n",
       "      <td>-1</td>\n",
       "    </tr>\n",
       "    <tr>\n",
       "      <th>112137</th>\n",
       "      <td>18812640</td>\n",
       "      <td>Hotel Alisha</td>\n",
       "      <td>Casual Dining</td>\n",
       "      <td>https://www.zomato.com/kolhapur/hotel-alisha-t...</td>\n",
       "      <td>Tarabhai Park, Kolhapur</td>\n",
       "      <td>Kolhapur</td>\n",
       "      <td>11334</td>\n",
       "      <td>Tarabhai Park</td>\n",
       "      <td>16.711290</td>\n",
       "      <td>74.240419</td>\n",
       "      <td>...</td>\n",
       "      <td>3</td>\n",
       "      <td>Rs.</td>\n",
       "      <td>['Dinner', 'Credit Card', 'Cash', 'Debit Card'...</td>\n",
       "      <td>4.1</td>\n",
       "      <td>Very Good</td>\n",
       "      <td>42</td>\n",
       "      <td>1</td>\n",
       "      <td>0.0</td>\n",
       "      <td>-1</td>\n",
       "      <td>-1</td>\n",
       "    </tr>\n",
       "    <tr>\n",
       "      <th>112138</th>\n",
       "      <td>18875882</td>\n",
       "      <td>Laziz Pizza</td>\n",
       "      <td>Casual Dining</td>\n",
       "      <td>https://www.zomato.com/kolhapur/laziz-pizza-ra...</td>\n",
       "      <td>Kakade Building, 4th Lane, Opposite Natural Ic...</td>\n",
       "      <td>Kolhapur</td>\n",
       "      <td>11334</td>\n",
       "      <td>Rajarampuri</td>\n",
       "      <td>16.695931</td>\n",
       "      <td>74.241781</td>\n",
       "      <td>...</td>\n",
       "      <td>2</td>\n",
       "      <td>Rs.</td>\n",
       "      <td>['Cash', 'Debit Card', 'Lunch', 'Delivery', 'C...</td>\n",
       "      <td>4.4</td>\n",
       "      <td>Very Good</td>\n",
       "      <td>30</td>\n",
       "      <td>5</td>\n",
       "      <td>0.0</td>\n",
       "      <td>-1</td>\n",
       "      <td>-1</td>\n",
       "    </tr>\n",
       "    <tr>\n",
       "      <th>112139</th>\n",
       "      <td>18808024</td>\n",
       "      <td>McDonald's</td>\n",
       "      <td>Quick Bites</td>\n",
       "      <td>https://www.zomato.com/kolhapur/mcdonalds-shah...</td>\n",
       "      <td>DY Patil City Mall, Plot 1 &amp; CS 2104 /15, E-Wa...</td>\n",
       "      <td>Kolhapur</td>\n",
       "      <td>11334</td>\n",
       "      <td>Shahupuri</td>\n",
       "      <td>16.703714</td>\n",
       "      <td>74.250359</td>\n",
       "      <td>...</td>\n",
       "      <td>2</td>\n",
       "      <td>Rs.</td>\n",
       "      <td>['Credit Card', 'Lunch', 'Cash', 'Breakfast', ...</td>\n",
       "      <td>4.5</td>\n",
       "      <td>Excellent</td>\n",
       "      <td>40</td>\n",
       "      <td>25</td>\n",
       "      <td>0.0</td>\n",
       "      <td>1</td>\n",
       "      <td>-1</td>\n",
       "    </tr>\n",
       "    <tr>\n",
       "      <th>112140</th>\n",
       "      <td>18792590</td>\n",
       "      <td>Dehaati</td>\n",
       "      <td>Casual Dining</td>\n",
       "      <td>https://www.zomato.com/kolhapur/dehaati-shahup...</td>\n",
       "      <td>B-504, Old Pune-Bangalore Highway, Nimbalkar C...</td>\n",
       "      <td>Kolhapur</td>\n",
       "      <td>11334</td>\n",
       "      <td>Shahupuri</td>\n",
       "      <td>16.703353</td>\n",
       "      <td>74.250038</td>\n",
       "      <td>...</td>\n",
       "      <td>3</td>\n",
       "      <td>Rs.</td>\n",
       "      <td>['Cash', 'Debit Card', 'Dinner', 'Credit Card'...</td>\n",
       "      <td>3.3</td>\n",
       "      <td>Average</td>\n",
       "      <td>45</td>\n",
       "      <td>21</td>\n",
       "      <td>0.0</td>\n",
       "      <td>-1</td>\n",
       "      <td>-1</td>\n",
       "    </tr>\n",
       "    <tr>\n",
       "      <th>...</th>\n",
       "      <td>...</td>\n",
       "      <td>...</td>\n",
       "      <td>...</td>\n",
       "      <td>...</td>\n",
       "      <td>...</td>\n",
       "      <td>...</td>\n",
       "      <td>...</td>\n",
       "      <td>...</td>\n",
       "      <td>...</td>\n",
       "      <td>...</td>\n",
       "      <td>...</td>\n",
       "      <td>...</td>\n",
       "      <td>...</td>\n",
       "      <td>...</td>\n",
       "      <td>...</td>\n",
       "      <td>...</td>\n",
       "      <td>...</td>\n",
       "      <td>...</td>\n",
       "      <td>...</td>\n",
       "      <td>...</td>\n",
       "      <td>...</td>\n",
       "    </tr>\n",
       "    <tr>\n",
       "      <th>113717</th>\n",
       "      <td>18882308</td>\n",
       "      <td>Paushtik Foods Center</td>\n",
       "      <td>Casual Dining</td>\n",
       "      <td>https://www.zomato.com/kolhapur/paushtik-foods...</td>\n",
       "      <td>Shop No. 1, 2, Serve No. 1770, E - Ward, Shant...</td>\n",
       "      <td>Kolhapur</td>\n",
       "      <td>11334</td>\n",
       "      <td>Rajarampuri</td>\n",
       "      <td>16.696800</td>\n",
       "      <td>74.242596</td>\n",
       "      <td>...</td>\n",
       "      <td>1</td>\n",
       "      <td>Rs.</td>\n",
       "      <td>['Dinner', 'Delivery', 'Breakfast', 'Lunch', '...</td>\n",
       "      <td>0.0</td>\n",
       "      <td>Not rated</td>\n",
       "      <td>0</td>\n",
       "      <td>0</td>\n",
       "      <td>0.0</td>\n",
       "      <td>-1</td>\n",
       "      <td>-1</td>\n",
       "    </tr>\n",
       "    <tr>\n",
       "      <th>113721</th>\n",
       "      <td>19038333</td>\n",
       "      <td>Hotel Campus</td>\n",
       "      <td>Casual Dining</td>\n",
       "      <td>https://www.zomato.com/kolhapur/hotel-campus-k...</td>\n",
       "      <td>2126/6 kadamwadi road kolhapur, Kasaba Bawada,...</td>\n",
       "      <td>Kolhapur</td>\n",
       "      <td>11334</td>\n",
       "      <td>Kasaba Bawada</td>\n",
       "      <td>16.711539</td>\n",
       "      <td>74.252488</td>\n",
       "      <td>...</td>\n",
       "      <td>2</td>\n",
       "      <td>Rs.</td>\n",
       "      <td>['Breakfast', 'Dinner', 'Lunch', 'Indoor Seati...</td>\n",
       "      <td>0.0</td>\n",
       "      <td>Not rated</td>\n",
       "      <td>0</td>\n",
       "      <td>0</td>\n",
       "      <td>0.0</td>\n",
       "      <td>-1</td>\n",
       "      <td>-1</td>\n",
       "    </tr>\n",
       "    <tr>\n",
       "      <th>113722</th>\n",
       "      <td>19083796</td>\n",
       "      <td>Anita's Breakfast</td>\n",
       "      <td>Quick Bites</td>\n",
       "      <td>https://www.zomato.com/kolhapur/anitas-breakfa...</td>\n",
       "      <td>196 A/1/A, Gala 6, Kawla Naka, Tararani Chowk,...</td>\n",
       "      <td>Kolhapur</td>\n",
       "      <td>11334</td>\n",
       "      <td>Rajarampuri</td>\n",
       "      <td>16.706967</td>\n",
       "      <td>74.248435</td>\n",
       "      <td>...</td>\n",
       "      <td>2</td>\n",
       "      <td>Rs.</td>\n",
       "      <td>['Dinner', 'Delivery', 'Breakfast', 'Lunch', '...</td>\n",
       "      <td>0.0</td>\n",
       "      <td>Not rated</td>\n",
       "      <td>0</td>\n",
       "      <td>0</td>\n",
       "      <td>0.0</td>\n",
       "      <td>-1</td>\n",
       "      <td>-1</td>\n",
       "    </tr>\n",
       "    <tr>\n",
       "      <th>113728</th>\n",
       "      <td>18961474</td>\n",
       "      <td>Hotel Shri Sai</td>\n",
       "      <td>Casual Dining</td>\n",
       "      <td>https://www.zomato.com/kolhapur/hotel-shri-sai...</td>\n",
       "      <td>CS No.482/A/12, Kadamwadi Road Opposite Raj Go...</td>\n",
       "      <td>Kolhapur</td>\n",
       "      <td>11334</td>\n",
       "      <td>Shahu Market Yard</td>\n",
       "      <td>16.708254</td>\n",
       "      <td>74.253649</td>\n",
       "      <td>...</td>\n",
       "      <td>2</td>\n",
       "      <td>Rs.</td>\n",
       "      <td>['Credit Card', 'Cash', 'Debit Card', 'Lunch',...</td>\n",
       "      <td>0.0</td>\n",
       "      <td>Not rated</td>\n",
       "      <td>0</td>\n",
       "      <td>0</td>\n",
       "      <td>0.0</td>\n",
       "      <td>-1</td>\n",
       "      <td>-1</td>\n",
       "    </tr>\n",
       "    <tr>\n",
       "      <th>113833</th>\n",
       "      <td>18875076</td>\n",
       "      <td>BBQ Ride India</td>\n",
       "      <td>Quick Bites</td>\n",
       "      <td>https://www.zomato.com/kolhapur/bbq-ride-india...</td>\n",
       "      <td>University Road, Near KSBP Natural Park Kolhapur</td>\n",
       "      <td>Kolhapur</td>\n",
       "      <td>11334</td>\n",
       "      <td>Vidya Nagar</td>\n",
       "      <td>16.684463</td>\n",
       "      <td>74.257078</td>\n",
       "      <td>...</td>\n",
       "      <td>1</td>\n",
       "      <td>Rs.</td>\n",
       "      <td>['Cash', 'Dinner', 'Takeaway Available', 'Lunc...</td>\n",
       "      <td>0.0</td>\n",
       "      <td>Not rated</td>\n",
       "      <td>0</td>\n",
       "      <td>0</td>\n",
       "      <td>0.0</td>\n",
       "      <td>-1</td>\n",
       "      <td>-1</td>\n",
       "    </tr>\n",
       "  </tbody>\n",
       "</table>\n",
       "<p>535 rows × 26 columns</p>\n",
       "</div>"
      ],
      "text/plain": [
       "          res_id                   name  establishment  \\\n",
       "112136  18815112           Akkis Bistro  Casual Dining   \n",
       "112137  18812640           Hotel Alisha  Casual Dining   \n",
       "112138  18875882            Laziz Pizza  Casual Dining   \n",
       "112139  18808024             McDonald's    Quick Bites   \n",
       "112140  18792590                Dehaati  Casual Dining   \n",
       "...          ...                    ...            ...   \n",
       "113717  18882308  Paushtik Foods Center  Casual Dining   \n",
       "113721  19038333           Hotel Campus  Casual Dining   \n",
       "113722  19083796      Anita's Breakfast    Quick Bites   \n",
       "113728  18961474         Hotel Shri Sai  Casual Dining   \n",
       "113833  18875076         BBQ Ride India    Quick Bites   \n",
       "\n",
       "                                                      url  \\\n",
       "112136  https://www.zomato.com/kolhapur/akkis-bistro-k...   \n",
       "112137  https://www.zomato.com/kolhapur/hotel-alisha-t...   \n",
       "112138  https://www.zomato.com/kolhapur/laziz-pizza-ra...   \n",
       "112139  https://www.zomato.com/kolhapur/mcdonalds-shah...   \n",
       "112140  https://www.zomato.com/kolhapur/dehaati-shahup...   \n",
       "...                                                   ...   \n",
       "113717  https://www.zomato.com/kolhapur/paushtik-foods...   \n",
       "113721  https://www.zomato.com/kolhapur/hotel-campus-k...   \n",
       "113722  https://www.zomato.com/kolhapur/anitas-breakfa...   \n",
       "113728  https://www.zomato.com/kolhapur/hotel-shri-sai...   \n",
       "113833  https://www.zomato.com/kolhapur/bbq-ride-india...   \n",
       "\n",
       "                                                  address      city  city_id  \\\n",
       "112136  Shop No 3 And 4, Tarabai Park, Kolhapur - 4160...  Kolhapur    11334   \n",
       "112137                            Tarabhai Park, Kolhapur  Kolhapur    11334   \n",
       "112138  Kakade Building, 4th Lane, Opposite Natural Ic...  Kolhapur    11334   \n",
       "112139  DY Patil City Mall, Plot 1 & CS 2104 /15, E-Wa...  Kolhapur    11334   \n",
       "112140  B-504, Old Pune-Bangalore Highway, Nimbalkar C...  Kolhapur    11334   \n",
       "...                                                   ...       ...      ...   \n",
       "113717  Shop No. 1, 2, Serve No. 1770, E - Ward, Shant...  Kolhapur    11334   \n",
       "113721  2126/6 kadamwadi road kolhapur, Kasaba Bawada,...  Kolhapur    11334   \n",
       "113722  196 A/1/A, Gala 6, Kawla Naka, Tararani Chowk,...  Kolhapur    11334   \n",
       "113728  CS No.482/A/12, Kadamwadi Road Opposite Raj Go...  Kolhapur    11334   \n",
       "113833   University Road, Near KSBP Natural Park Kolhapur  Kolhapur    11334   \n",
       "\n",
       "                 locality   latitude  longitude  ... price_range  currency  \\\n",
       "112136      Kasaba Bawada  16.709550  74.241641  ...           1       Rs.   \n",
       "112137      Tarabhai Park  16.711290  74.240419  ...           3       Rs.   \n",
       "112138        Rajarampuri  16.695931  74.241781  ...           2       Rs.   \n",
       "112139          Shahupuri  16.703714  74.250359  ...           2       Rs.   \n",
       "112140          Shahupuri  16.703353  74.250038  ...           3       Rs.   \n",
       "...                   ...        ...        ...  ...         ...       ...   \n",
       "113717        Rajarampuri  16.696800  74.242596  ...           1       Rs.   \n",
       "113721      Kasaba Bawada  16.711539  74.252488  ...           2       Rs.   \n",
       "113722        Rajarampuri  16.706967  74.248435  ...           2       Rs.   \n",
       "113728  Shahu Market Yard  16.708254  74.253649  ...           2       Rs.   \n",
       "113833        Vidya Nagar  16.684463  74.257078  ...           1       Rs.   \n",
       "\n",
       "                                               highlights aggregate_rating  \\\n",
       "112136              ['Cash', 'Credit Card', 'Debit Card']              4.1   \n",
       "112137  ['Dinner', 'Credit Card', 'Cash', 'Debit Card'...              4.1   \n",
       "112138  ['Cash', 'Debit Card', 'Lunch', 'Delivery', 'C...              4.4   \n",
       "112139  ['Credit Card', 'Lunch', 'Cash', 'Breakfast', ...              4.5   \n",
       "112140  ['Cash', 'Debit Card', 'Dinner', 'Credit Card'...              3.3   \n",
       "...                                                   ...              ...   \n",
       "113717  ['Dinner', 'Delivery', 'Breakfast', 'Lunch', '...              0.0   \n",
       "113721  ['Breakfast', 'Dinner', 'Lunch', 'Indoor Seati...              0.0   \n",
       "113722  ['Dinner', 'Delivery', 'Breakfast', 'Lunch', '...              0.0   \n",
       "113728  ['Credit Card', 'Cash', 'Debit Card', 'Lunch',...              0.0   \n",
       "113833  ['Cash', 'Dinner', 'Takeaway Available', 'Lunc...              0.0   \n",
       "\n",
       "       rating_text  votes  photo_count opentable_support delivery  takeaway  \n",
       "112136   Very Good     40           34               0.0        1        -1  \n",
       "112137   Very Good     42            1               0.0       -1        -1  \n",
       "112138   Very Good     30            5               0.0       -1        -1  \n",
       "112139   Excellent     40           25               0.0        1        -1  \n",
       "112140     Average     45           21               0.0       -1        -1  \n",
       "...            ...    ...          ...               ...      ...       ...  \n",
       "113717   Not rated      0            0               0.0       -1        -1  \n",
       "113721   Not rated      0            0               0.0       -1        -1  \n",
       "113722   Not rated      0            0               0.0       -1        -1  \n",
       "113728   Not rated      0            0               0.0       -1        -1  \n",
       "113833   Not rated      0            0               0.0       -1        -1  \n",
       "\n",
       "[535 rows x 26 columns]"
      ]
     },
     "execution_count": 24,
     "metadata": {},
     "output_type": "execute_result"
    }
   ],
   "source": [
    "data[data['city']=='Kolhapur']"
   ]
  },
  {
   "cell_type": "code",
   "execution_count": 26,
   "id": "130fc001",
   "metadata": {},
   "outputs": [
    {
     "data": {
      "text/plain": [
       "3731"
      ]
     },
     "execution_count": 26,
     "metadata": {},
     "output_type": "execute_result"
    }
   ],
   "source": [
    "data['locality'].nunique()"
   ]
  },
  {
   "cell_type": "code",
   "execution_count": 27,
   "id": "2cc0f728",
   "metadata": {},
   "outputs": [
    {
     "data": {
      "text/plain": [
       "array([1], dtype=int64)"
      ]
     },
     "execution_count": 27,
     "metadata": {},
     "output_type": "execute_result"
    }
   ],
   "source": [
    "data['country_id'].unique()"
   ]
  },
  {
   "cell_type": "code",
   "execution_count": 28,
   "id": "d93c06a4",
   "metadata": {},
   "outputs": [
    {
     "data": {
      "text/plain": [
       "3910"
      ]
     },
     "execution_count": 28,
     "metadata": {},
     "output_type": "execute_result"
    }
   ],
   "source": [
    "data['locality_verbose'].nunique()"
   ]
  },
  {
   "cell_type": "code",
   "execution_count": 29,
   "id": "ca652f05",
   "metadata": {},
   "outputs": [
    {
     "name": "stdout",
     "output_type": "stream",
     "text": [
      "9382\n",
      "['North Indian, South Indian, Mithai, Street Food, Desserts'\n",
      " 'North Indian, Mughlai, Rolls, Chinese, Fast Food, Street Food'\n",
      " 'Fast Food, Mithai' ...\n",
      " 'Street Food, Biryani, Chinese, Fast Food, North Indian, Mughlai'\n",
      " 'North Indian, Chinese, Mexican, Italian, Thai, Continental'\n",
      " 'North Indian, Lucknowi, Chinese']\n"
     ]
    }
   ],
   "source": [
    "print(data['cuisines'].nunique())\n",
    "print(data['cuisines'].unique())\n"
   ]
  },
  {
   "cell_type": "code",
   "execution_count": 30,
   "id": "031d84b3",
   "metadata": {},
   "outputs": [],
   "source": [
    "data['cuisines']= data['cuisines'].fillna('No cuisine')"
   ]
  },
  {
   "cell_type": "code",
   "execution_count": 39,
   "id": "9c39ad18",
   "metadata": {},
   "outputs": [
    {
     "name": "stdout",
     "output_type": "stream",
     "text": [
      "Total number of unique cuisines= 249\n"
     ]
    }
   ],
   "source": [
    "cuisines=[]\n",
    "data['cuisines'].apply(lambda x : cuisines.extend(x.split(\",\")))\n",
    "cuisines = pd.Series(cuisines)\n",
    "print(\"Total number of unique cuisines=\", cuisines.nunique())"
   ]
  },
  {
   "cell_type": "code",
   "execution_count": 40,
   "id": "6598862d",
   "metadata": {},
   "outputs": [
    {
     "name": "stdout",
     "output_type": "stream",
     "text": [
      "7740\n",
      "['8:30am – 10:30pm (Mon-Sun)'\n",
      " '12:30PM to 12Midnight (Mon, Wed, Thu, Fri, Sat, Sun), 1PM to 12Midnight (Tue)'\n",
      " '9:30 AM to 11 PM' ... '8am – 2:30pm, 5pm – 10pm (Mon-Sun)'\n",
      " '8am – 3pm, 6:30pm – 11pm (Mon-Sun)'\n",
      " '4pm – 11pm (Mon, Tue, Wed, Fri, Sat, Sun), 4pm – 11:30pm (Thu)']\n"
     ]
    }
   ],
   "source": [
    "print(data['timings'].nunique())\n",
    "print(data['timings'].unique())"
   ]
  },
  {
   "cell_type": "code",
   "execution_count": 42,
   "id": "4ba0444e",
   "metadata": {},
   "outputs": [
    {
     "data": {
      "text/plain": [
       "145"
      ]
     },
     "execution_count": 42,
     "metadata": {},
     "output_type": "execute_result"
    }
   ],
   "source": [
    "data['average_cost_for_two'].nunique()"
   ]
  },
  {
   "cell_type": "code",
   "execution_count": 44,
   "id": "c163fead",
   "metadata": {},
   "outputs": [
    {
     "data": {
      "text/plain": [
       "array([2, 1, 3, 4], dtype=int64)"
      ]
     },
     "execution_count": 44,
     "metadata": {},
     "output_type": "execute_result"
    }
   ],
   "source": [
    "data['price_range'].unique()"
   ]
  },
  {
   "cell_type": "code",
   "execution_count": 45,
   "id": "858b88ad",
   "metadata": {},
   "outputs": [
    {
     "name": "stdout",
     "output_type": "stream",
     "text": [
      "31228\n",
      "[\"['Lunch', 'Takeaway Available', 'Credit Card', 'Dinner', 'Cash', 'Air Conditioned', 'Indoor Seating', 'Pure Veg']\"\n",
      " \"['Delivery', 'No Alcohol Available', 'Dinner', 'Takeaway Available', 'Lunch', 'Cash', 'Indoor Seating']\"\n",
      " \"['No Alcohol Available', 'Dinner', 'Takeaway Available', 'Breakfast', 'Lunch', 'Cash', 'Delivery', 'Outdoor Seating', 'Air Conditioned', 'Self Service', 'Indoor Seating', 'Digital Payments Accepted', 'Pure Veg', 'Desserts and Bakes']\"\n",
      " ...\n",
      " \"['Dinner', 'Delivery', 'Cash', 'Takeaway Available', 'Free Parking', 'Digital Payments Accepted', 'Pure Veg', 'Indoor Seating']\"\n",
      " \"['Dinner', 'Cash', 'Takeaway Available', 'Lunch', 'Delivery', 'Free Parking', 'Indoor Seating', 'Air Conditioned', 'Outdoor Seating', 'Digital Payments Accepted', 'Catering Available', 'Pure Veg']\"\n",
      " \"['Dinner', 'Cash', 'Takeaway Available', 'Debit Card', 'Delivery', 'Credit Card', 'Free Parking', 'Outdoor Seating']\"]\n"
     ]
    }
   ],
   "source": [
    "print(data['highlights'].nunique())\n",
    "print(data['highlights'].unique())"
   ]
  },
  {
   "cell_type": "code",
   "execution_count": 46,
   "id": "bdf33591",
   "metadata": {},
   "outputs": [
    {
     "data": {
      "text/html": [
       "<div>\n",
       "<style scoped>\n",
       "    .dataframe tbody tr th:only-of-type {\n",
       "        vertical-align: middle;\n",
       "    }\n",
       "\n",
       "    .dataframe tbody tr th {\n",
       "        vertical-align: top;\n",
       "    }\n",
       "\n",
       "    .dataframe thead th {\n",
       "        text-align: right;\n",
       "    }\n",
       "</style>\n",
       "<table border=\"1\" class=\"dataframe\">\n",
       "  <thead>\n",
       "    <tr style=\"text-align: right;\">\n",
       "      <th></th>\n",
       "      <th>aggregate_rating</th>\n",
       "      <th>votes</th>\n",
       "      <th>photo_count</th>\n",
       "    </tr>\n",
       "  </thead>\n",
       "  <tbody>\n",
       "    <tr>\n",
       "      <th>mean</th>\n",
       "      <td>2.958593</td>\n",
       "      <td>223.330352</td>\n",
       "      <td>160.97477</td>\n",
       "    </tr>\n",
       "    <tr>\n",
       "      <th>min</th>\n",
       "      <td>0.000000</td>\n",
       "      <td>-18.000000</td>\n",
       "      <td>0.00000</td>\n",
       "    </tr>\n",
       "    <tr>\n",
       "      <th>max</th>\n",
       "      <td>4.900000</td>\n",
       "      <td>42539.000000</td>\n",
       "      <td>17702.00000</td>\n",
       "    </tr>\n",
       "  </tbody>\n",
       "</table>\n",
       "</div>"
      ],
      "text/plain": [
       "      aggregate_rating         votes  photo_count\n",
       "mean          2.958593    223.330352    160.97477\n",
       "min           0.000000    -18.000000      0.00000\n",
       "max           4.900000  42539.000000  17702.00000"
      ]
     },
     "execution_count": 46,
     "metadata": {},
     "output_type": "execute_result"
    }
   ],
   "source": [
    "data[['aggregate_rating','votes','photo_count']].describe().loc[['mean','min','max']]"
   ]
  },
  {
   "cell_type": "code",
   "execution_count": 47,
   "id": "a28a6f26",
   "metadata": {},
   "outputs": [
    {
     "data": {
      "text/plain": [
       "array([ 0., nan])"
      ]
     },
     "execution_count": 47,
     "metadata": {},
     "output_type": "execute_result"
    }
   ],
   "source": [
    "data[\"opentable_support\"].unique()"
   ]
  },
  {
   "cell_type": "code",
   "execution_count": 48,
   "id": "b227cee0",
   "metadata": {},
   "outputs": [
    {
     "data": {
      "text/plain": [
       "array([-1,  1,  0], dtype=int64)"
      ]
     },
     "execution_count": 48,
     "metadata": {},
     "output_type": "execute_result"
    }
   ],
   "source": [
    "data[\"delivery\"].unique()"
   ]
  },
  {
   "cell_type": "code",
   "execution_count": 49,
   "id": "8375e6e7",
   "metadata": {},
   "outputs": [
    {
     "data": {
      "text/plain": [
       "array([-1], dtype=int64)"
      ]
     },
     "execution_count": 49,
     "metadata": {},
     "output_type": "execute_result"
    }
   ],
   "source": [
    "data[\"takeaway\"].unique()"
   ]
  },
  {
   "cell_type": "code",
   "execution_count": 50,
   "id": "e63f09e4",
   "metadata": {},
   "outputs": [
    {
     "data": {
      "text/plain": [
       "Domino's Pizza                           399\n",
       "Cafe Coffee Day                          315\n",
       "KFC                                      204\n",
       "Baskin Robbins                           202\n",
       "Keventers                                189\n",
       "                                        ... \n",
       "Boulevard 69                               1\n",
       "7-Eleven Restaurant                        1\n",
       "Food station                               1\n",
       "Silver Saloon - Taj Usha Kiran Palace      1\n",
       "Geeta lodge                                1\n",
       "Name: name, Length: 41100, dtype: int64"
      ]
     },
     "execution_count": 50,
     "metadata": {},
     "output_type": "execute_result"
    }
   ],
   "source": [
    "outlets = data['name'].value_counts()\n",
    "outlets"
   ]
  },
  {
   "cell_type": "code",
   "execution_count": 51,
   "id": "4a25e579",
   "metadata": {},
   "outputs": [],
   "source": [
    "chains = outlets[outlets>=2]\n",
    "single = outlets[outlets ==1]"
   ]
  },
  {
   "cell_type": "code",
   "execution_count": 52,
   "id": "82ed57e6",
   "metadata": {},
   "outputs": [
    {
     "data": {
      "text/plain": [
       "(55568, 26)"
      ]
     },
     "execution_count": 52,
     "metadata": {},
     "output_type": "execute_result"
    }
   ],
   "source": [
    "data.shape"
   ]
  },
  {
   "cell_type": "code",
   "execution_count": 53,
   "id": "812f9ebc",
   "metadata": {},
   "outputs": [
    {
     "data": {
      "text/plain": [
       "Domino's Pizza              399\n",
       "Cafe Coffee Day             315\n",
       "KFC                         204\n",
       "Baskin Robbins              202\n",
       "Keventers                   189\n",
       "                           ... \n",
       "Santoor Restaurant            2\n",
       "The Ice House                 2\n",
       "Zaatar Arabic Restaurant      2\n",
       "Ashok & Ashok Meat Dhaba      2\n",
       "Hotel Tara                    2\n",
       "Name: name, Length: 4890, dtype: int64"
      ]
     },
     "execution_count": 53,
     "metadata": {},
     "output_type": "execute_result"
    }
   ],
   "source": [
    "chains"
   ]
  },
  {
   "cell_type": "code",
   "execution_count": 54,
   "id": "f3551da9",
   "metadata": {},
   "outputs": [
    {
     "name": "stdout",
     "output_type": "stream",
     "text": [
      "total restaurants = 55568\n",
      "total restaurants that are part of some chain= 19358\n",
      "percentage of restaurants that are part of a chain= 35.0 %\n"
     ]
    }
   ],
   "source": [
    "print('total restaurants =',data.shape[0])\n",
    "print('total restaurants that are part of some chain=',data.shape[0]-single.shape[0])\n",
    "print('percentage of restaurants that are part of a chain=',np.round((data.shape[0]-single.shape[0])/data.shape[0],2)*100,\"%\")"
   ]
  },
  {
   "cell_type": "code",
   "execution_count": 55,
   "id": "19ad77a6",
   "metadata": {},
   "outputs": [
    {
     "data": {
      "text/plain": [
       "Domino's Pizza     399\n",
       "Cafe Coffee Day    315\n",
       "KFC                204\n",
       "Baskin Robbins     202\n",
       "Keventers          189\n",
       "Subway             178\n",
       "McDonald's         130\n",
       "Pizza Hut          125\n",
       "Barbeque Nation    112\n",
       "Burger King        110\n",
       "Name: name, dtype: int64"
      ]
     },
     "execution_count": 55,
     "metadata": {},
     "output_type": "execute_result"
    }
   ],
   "source": [
    "chains.head(10)"
   ]
  },
  {
   "cell_type": "code",
   "execution_count": 56,
   "id": "158c8eca",
   "metadata": {},
   "outputs": [],
   "source": [
    "top10_chains=data['name'].value_counts()[:10].sort_values(ascending=True)"
   ]
  },
  {
   "cell_type": "code",
   "execution_count": 59,
   "id": "5789878f",
   "metadata": {},
   "outputs": [
    {
     "data": {
      "image/png": "[encoded data removed]",
      "text/plain": [
       "<Figure size 1100x700 with 1 Axes>"
      ]
     },
     "metadata": {},
     "output_type": "display_data"
    }
   ],
   "source": [
    "height = top10_chains.values\n",
    "bars = top10_chains.index\n",
    "y_pos = np.arange(len(bars))\n",
    "\n",
    "fig = plt.figure(figsize=[11,7], frameon=False)\n",
    "ax=fig.gca()\n",
    "ax.spines['top'].set_visible('#424242')\n",
    "ax.spines['right'].set_visible(False)\n",
    "ax.spines['left'].set_color('#424242')\n",
    "ax.spines['top'].set_color('#424242')\n",
    "\n",
    "#colors = [green,blue,magenta,cyan,gray,yellow,purple,violet,orange,red,marron]\n",
    "#randon.shuffle(colors)\n",
    "\n",
    "colors = [\"#f9cdac\",\"#f2a49f\",\"#ec7c92\",\"#e65586\",\"#bc438b\",\"#933291\",\"#692398\",\"#551c7b\",\"#41155e\",\"#2d0f41\"]\n",
    "plt.barh(y_pos,height,color=colors)\n",
    "\n",
    "plt.xticks(color='#424242')\n",
    "\n",
    "plt.yticks(y_pos,bars,color='#424242')\n",
    "plt.xlabel('number of outlets in india')\n",
    "\n",
    "for i,v in enumerate(height):\n",
    "    ax.text(v+3,i,str(v),color='#424242')\n",
    "\n",
    "plt.title(\"Top 10 Restaurant chain in India (by number of outlets)\")\n",
    "\n",
    "plt.show()"
   ]
  },
  {
   "cell_type": "code",
   "execution_count": 61,
   "id": "d9c44e96",
   "metadata": {},
   "outputs": [],
   "source": [
    "outlets = data['name'].value_counts()"
   ]
  },
  {
   "cell_type": "code",
   "execution_count": 62,
   "id": "c6be1955",
   "metadata": {},
   "outputs": [],
   "source": [
    "atleast_5_outlets = outlets[outlets>4]"
   ]
  },
  {
   "cell_type": "code",
   "execution_count": 63,
   "id": "57880fe2",
   "metadata": {},
   "outputs": [
    {
     "name": "stderr",
     "output_type": "stream",
     "text": [
      "C:\\Users\\risha\\AppData\\Local\\Temp\\ipykernel_12768\\2793371727.py:1: FutureWarning: The default value of numeric_only in DataFrameGroupBy.mean is deprecated. In a future version, numeric_only will default to False. Either specify numeric_only or select only columns which should be valid for the function.\n",
      "  top10_chains2 = data[data['name'].isin(atleast_5_outlets.index)].groupby('name').mean()['aggregate_rating'].sort_values(ascending=False)[:10].sort_values(ascending=True)\n"
     ]
    }
   ],
   "source": [
    "top10_chains2 = data[data['name'].isin(atleast_5_outlets.index)].groupby('name').mean()['aggregate_rating'].sort_values(ascending=False)[:10].sort_values(ascending=True)"
   ]
  },
  {
   "cell_type": "code",
   "execution_count": 64,
   "id": "a789d2c8",
   "metadata": {},
   "outputs": [
    {
     "data": {
      "image/png": "[encoded data removed]",
      "text/plain": [
       "<Figure size 1100x700 with 1 Axes>"
      ]
     },
     "metadata": {},
     "output_type": "display_data"
    }
   ],
   "source": [
    "height = pd.Series(top10_chains.values).map(lambda x: np.round(x,2))\n",
    "bars = top10_chains.index\n",
    "y_pos = np.arange(len(bars))\n",
    "\n",
    "fig = plt.figure(figsize=[11,7], frameon = False)\n",
    "ax = fig.gca()\n",
    "ax.spines[\"top\"].set_visible(\"#424242\")\n",
    "ax.spines[\"right\"].set_visible(False)\n",
    "ax.spines[\"left\"].set_color(\"#424242\")\n",
    "ax.spines[\"bottom\"].set_color(\"#424242\")\n",
    "\n",
    "#colors = [\"green\",\"blue\",\"magenta\",\"cyan\",\"gray\",\"yellow\",\"purple\",\"violet\",\"orange\",\"red\",\"maroon\"]\n",
    "#random.shuffle(colors)\n",
    "colors = ['#fded86', '#fce36b', '#f7c65d', '#f1a84f', '#ec8c41', '#e76f34', '#e25328', '#b04829', '#7e3e2b', '#4c3430']\n",
    "plt.barh(y_pos, height, color=colors)\n",
    "\n",
    "plt.xlim(3)\n",
    "plt.xticks(color='#424242')\n",
    "plt.yticks(y_pos,bars,color='#424242')\n",
    "plt.xlabel('number of outlets in india')\n",
    "\n",
    "for i , v in enumerate(height):\n",
    "    ax.text(v+0.01, i, str(v), color='#424242')\n",
    "plt.title(\"Top 10 restaurant chain in India (by average Rating)\")\n",
    "\n",
    "plt.show()"
   ]
  },
  {
   "cell_type": "code",
   "execution_count": 67,
   "id": "1b4f6728",
   "metadata": {},
   "outputs": [
    {
     "data": {
      "image/png": "[encoded data removed]",
      "text/plain": [
       "<Figure size 800x500 with 1 Axes>"
      ]
     },
     "metadata": {},
     "output_type": "display_data"
    }
   ],
   "source": [
    "est_count = data.groupby('establishment').count()['res_id'].sort_values(ascending=False)[:5]\n",
    "\n",
    "fig = plt.figure(figsize=[8,5], frameon=False)\n",
    "ax=fig.gca()\n",
    "ax.spines['top'].set_visible(False)\n",
    "ax.spines['right'].set_visible(False)\n",
    "ax.spines['left'].set_color('#424242')\n",
    "ax.spines['bottom'].set_color('#424242')\n",
    "\n",
    "colors = [\"#2d0f41\",'#933291',\"#e65586\",\"#f2a49f\",\"#f9cdac\"]\n",
    "plt.bar(est_count.index,est_count.values, color=colors)\n",
    "\n",
    "plt.xticks(range(0,6),color='#424242')\n",
    "plt.yticks(range(0,25000,5000),color='#424242')\n",
    "plt.xlabel('top 5 eatablishment types')\n",
    "\n",
    "for i,v in enumerate(est_count):\n",
    "    ax.text(i-0.2, v+500, str(v), color='#424242')\n",
    "plt.title('Number of restaurants (by establishment type)')\n",
    "\n",
    "plt.show()"
   ]
  },
  {
   "cell_type": "code",
   "execution_count": 68,
   "id": "0491fe2c",
   "metadata": {},
   "outputs": [
    {
     "name": "stderr",
     "output_type": "stream",
     "text": [
      "C:\\Users\\risha\\AppData\\Local\\Temp\\ipykernel_12768\\4279284214.py:1: FutureWarning: The default value of numeric_only in DataFrameGroupBy.mean is deprecated. In a future version, numeric_only will default to False. Either specify numeric_only or select only columns which should be valid for the function.\n",
      "  rating_by_est = data.groupby('establishment').mean()['aggregate_rating'].sort_values(ascending=False)[:10]\n"
     ]
    },
    {
     "data": {
      "text/plain": [
       "establishment\n",
       "Microbrewery     4.268182\n",
       "Pub              3.758263\n",
       "Cocktail Bar     3.531250\n",
       "Fine Dining      3.436547\n",
       "Lounge           3.436463\n",
       "Club             3.378571\n",
       "Irani Cafe       3.321429\n",
       "Casual Dining    3.238680\n",
       "Café             3.212345\n",
       "Butcher Shop     3.110390\n",
       "Name: aggregate_rating, dtype: float64"
      ]
     },
     "execution_count": 68,
     "metadata": {},
     "output_type": "execute_result"
    }
   ],
   "source": [
    "rating_by_est = data.groupby('establishment').mean()['aggregate_rating'].sort_values(ascending=False)[:10]\n",
    "rating_by_est"
   ]
  },
  {
   "cell_type": "code",
   "execution_count": 69,
   "id": "385b11fc",
   "metadata": {},
   "outputs": [
    {
     "name": "stderr",
     "output_type": "stream",
     "text": [
      "C:\\Users\\risha\\AppData\\Local\\Temp\\ipykernel_12768\\3034444418.py:1: FutureWarning: The default value of numeric_only in DataFrameGroupBy.mean is deprecated. In a future version, numeric_only will default to False. Either specify numeric_only or select only columns which should be valid for the function.\n",
      "  data.groupby('establishment').mean()['votes'].sort_values(ascending=False)[:10]\n"
     ]
    },
    {
     "data": {
      "text/plain": [
       "establishment\n",
       "Microbrewery     1992.300000\n",
       "Pub               880.274510\n",
       "Bar               500.613295\n",
       "Lounge            494.509756\n",
       "Casual Dining     396.339935\n",
       "Cocktail Bar      309.625000\n",
       "Club              300.544643\n",
       "Fine Dining       293.126384\n",
       "Café              276.558574\n",
       "Irani Cafe        178.714286\n",
       "Name: votes, dtype: float64"
      ]
     },
     "execution_count": 69,
     "metadata": {},
     "output_type": "execute_result"
    }
   ],
   "source": [
    "data.groupby('establishment').mean()['votes'].sort_values(ascending=False)[:10]"
   ]
  },
  {
   "cell_type": "code",
   "execution_count": 70,
   "id": "1833b87e",
   "metadata": {},
   "outputs": [
    {
     "name": "stderr",
     "output_type": "stream",
     "text": [
      "C:\\Users\\risha\\AppData\\Local\\Temp\\ipykernel_12768\\1089168591.py:1: FutureWarning: The default value of numeric_only in DataFrameGroupBy.mean is deprecated. In a future version, numeric_only will default to False. Either specify numeric_only or select only columns which should be valid for the function.\n",
      "  data.groupby(\"establishment\").mean()[\"photo_count\"].sort_values(ascending=False)[:10]\n"
     ]
    },
    {
     "data": {
      "text/plain": [
       "establishment\n",
       "Microbrewery     2042.054545\n",
       "Pub               652.955182\n",
       "Cocktail Bar      555.625000\n",
       "Lounge            514.687805\n",
       "Bar               513.321658\n",
       "Fine Dining       364.817590\n",
       "Café              331.935969\n",
       "Casual Dining     291.550448\n",
       "Irani Cafe        173.000000\n",
       "Club              107.089286\n",
       "Name: photo_count, dtype: float64"
      ]
     },
     "execution_count": 70,
     "metadata": {},
     "output_type": "execute_result"
    }
   ],
   "source": [
    "data.groupby(\"establishment\").mean()[\"photo_count\"].sort_values(ascending=False)[:10]"
   ]
  },
  {
   "cell_type": "code",
   "execution_count": 71,
   "id": "316e226a",
   "metadata": {},
   "outputs": [
    {
     "data": {
      "image/png": "[encoded data removed]",
      "text/plain": [
       "<Figure size 1100x700 with 1 Axes>"
      ]
     },
     "metadata": {},
     "output_type": "display_data"
    }
   ],
   "source": [
    "city_counts = data.groupby('city').count()['res_id'].sort_values(ascending=True)[-10:]\n",
    "\n",
    "height = pd.Series(city_counts.values)\n",
    "bars = city_counts.index\n",
    "y_pos = np.arange(len(bars))\n",
    "\n",
    "fig = plt.figure(figsize=[11,7], frameon=False)\n",
    "ax = fig.gca()\n",
    "ax.spines[\"top\"].set_visible(\"#424242\")\n",
    "ax.spines[\"right\"].set_visible(False)\n",
    "ax.spines[\"left\"].set_color(\"#424242\")\n",
    "ax.spines[\"bottom\"].set_color(\"#424242\")\n",
    "\n",
    "colors = ['#dcecc9', '#aadacc', '#78c6d0', '#48b3d3', '#3e94c0', '#3474ac', '#2a5599', '#203686', '#18216b', '#11174b']\n",
    "plt.barh(y_pos, height, color=colors)\n",
    "\n",
    "plt.xlim(3)\n",
    "plt.xticks(color=\"#424242\")\n",
    "plt.yticks(y_pos, bars, color=\"#424242\")\n",
    "plt.xlabel(\"Number of outlets\")\n",
    "\n",
    "for i, v in enumerate(height):\n",
    "    ax.text(v + 20, i, str(v), color='#424242')\n",
    "plt.title(\"Number of restaurants (by city)\")\n",
    "\n",
    "\n",
    "plt.show()"
   ]
  },
  {
   "cell_type": "code",
   "execution_count": 72,
   "id": "1514849a",
   "metadata": {},
   "outputs": [
    {
     "name": "stderr",
     "output_type": "stream",
     "text": [
      "C:\\Users\\risha\\AppData\\Local\\Temp\\ipykernel_12768\\80009559.py:1: FutureWarning: The default value of numeric_only in DataFrameGroupBy.mean is deprecated. In a future version, numeric_only will default to False. Either specify numeric_only or select only columns which should be valid for the function.\n",
      "  rating_by_city = data.groupby(\"city\").mean()[\"aggregate_rating\"].sort_values(ascending=False)[:10]\n"
     ]
    },
    {
     "data": {
      "text/plain": [
       "city\n",
       "Gurgaon         3.828525\n",
       "Secunderabad    3.822222\n",
       "Hyderabad       3.755839\n",
       "Kolkata         3.751947\n",
       "New Delhi       3.727347\n",
       "Mumbai          3.709298\n",
       "Bangalore       3.698175\n",
       "Noida           3.620307\n",
       "Chennai         3.597701\n",
       "Pune            3.509224\n",
       "Name: aggregate_rating, dtype: float64"
      ]
     },
     "execution_count": 72,
     "metadata": {},
     "output_type": "execute_result"
    }
   ],
   "source": [
    "rating_by_city = data.groupby(\"city\").mean()[\"aggregate_rating\"].sort_values(ascending=False)[:10]\n",
    "rating_by_city"
   ]
  },
  {
   "cell_type": "code",
   "execution_count": 73,
   "id": "436998c9",
   "metadata": {},
   "outputs": [
    {
     "name": "stderr",
     "output_type": "stream",
     "text": [
      "C:\\Users\\risha\\AppData\\Local\\Temp\\ipykernel_12768\\389517197.py:1: FutureWarning: The default value of numeric_only in DataFrameGroupBy.mean is deprecated. In a future version, numeric_only will default to False. Either specify numeric_only or select only columns which should be valid for the function.\n",
      "  data.groupby(\"city\").mean()[\"votes\"].sort_values(ascending=False)[:10]\n"
     ]
    },
    {
     "data": {
      "text/plain": [
       "city\n",
       "Hyderabad       955.549878\n",
       "Secunderabad    955.433333\n",
       "Mumbai          797.158259\n",
       "Bangalore       724.940365\n",
       "New Delhi       711.116197\n",
       "Kolkata         615.706833\n",
       "Gurgaon         613.180328\n",
       "Noida           515.570881\n",
       "Pune            475.715681\n",
       "Navi Mumbai     443.342995\n",
       "Name: votes, dtype: float64"
      ]
     },
     "execution_count": 73,
     "metadata": {},
     "output_type": "execute_result"
    }
   ],
   "source": [
    "data.groupby(\"city\").mean()[\"votes\"].sort_values(ascending=False)[:10]"
   ]
  },
  {
   "cell_type": "code",
   "execution_count": 74,
   "id": "0c6c4a51",
   "metadata": {},
   "outputs": [
    {
     "name": "stderr",
     "output_type": "stream",
     "text": [
      "C:\\Users\\risha\\AppData\\Local\\Temp\\ipykernel_12768\\1387870660.py:1: FutureWarning: The default value of numeric_only in DataFrameGroupBy.mean is deprecated. In a future version, numeric_only will default to False. Either specify numeric_only or select only columns which should be valid for the function.\n",
      "  data.groupby(\"city\").mean()[\"photo_count\"].sort_values(ascending=False)[:10]\n"
     ]
    },
    {
     "data": {
      "text/plain": [
       "city\n",
       "Mumbai         882.273492\n",
       "New Delhi      764.258216\n",
       "Gurgaon        678.491803\n",
       "Kolkata        667.558413\n",
       "Navi Mumbai    547.323671\n",
       "Thane          514.963855\n",
       "Noida          492.291188\n",
       "Bangalore      462.287939\n",
       "Hyderabad      377.274939\n",
       "Pune           333.320130\n",
       "Name: photo_count, dtype: float64"
      ]
     },
     "execution_count": 74,
     "metadata": {},
     "output_type": "execute_result"
    }
   ],
   "source": [
    "data.groupby(\"city\").mean()[\"photo_count\"].sort_values(ascending=False)[:10]"
   ]
  },
  {
   "cell_type": "code",
   "execution_count": 75,
   "id": "9c28554b",
   "metadata": {},
   "outputs": [
    {
     "name": "stdout",
     "output_type": "stream",
     "text": [
      "total number of unique cuisines = 249\n"
     ]
    }
   ],
   "source": [
    "print('total number of unique cuisines =',cuisines.nunique())"
   ]
  },
  {
   "cell_type": "code",
   "execution_count": 76,
   "id": "37545cbd",
   "metadata": {},
   "outputs": [
    {
     "data": {
      "image/png": "[encoded data removed]",
      "text/plain": [
       "<Figure size 800x500 with 1 Axes>"
      ]
     },
     "metadata": {},
     "output_type": "display_data"
    }
   ],
   "source": [
    "c_count = cuisines.value_counts()[:5]\n",
    "\n",
    "fig = plt.figure(figsize=[8,5], frameon=False)\n",
    "ax = fig.gca()\n",
    "ax.spines[\"top\"].set_visible(False)\n",
    "ax.spines[\"right\"].set_visible(False)\n",
    "ax.spines[\"left\"].set_color(\"#424242\")\n",
    "ax.spines[\"bottom\"].set_color(\"#424242\")\n",
    "\n",
    "#colors = [\"green\",\"blue\",\"magenta\",\"cyan\",\"gray\",\"yellow\",\"purple\",\"violet\",\"orange\",\"red\",\"maroon\"]\n",
    "#random.shuffle(colors)\n",
    "colors = ['#4c3430', '#b04829', '#ec8c41', '#f7c65d','#fded86']\n",
    "plt.bar(c_count.index, c_count.values, color=colors)\n",
    "\n",
    "plt.xticks(range(0, 6), color=\"#424242\")\n",
    "plt.yticks(range(0, 30000, 5000), color=\"#424242\")\n",
    "plt.xlabel(\"Top 5 cuisines\")\n",
    "\n",
    "for i, v in enumerate(c_count):\n",
    "    ax.text(i-0.2, v+500, str(v), color='#424242')\n",
    "plt.title(\"Number of restaurants (by cuisine type)\")\n",
    "\n",
    "\n",
    "plt.show()"
   ]
  },
  {
   "cell_type": "code",
   "execution_count": 79,
   "id": "715b6f78",
   "metadata": {},
   "outputs": [],
   "source": [
    "data['cuisines2'] = data['cuisines'].apply(lambda x:x.split(\",\"))\n",
    "\n",
    "cuisines_list = cuisines.unique().tolist()\n",
    "zeros = np.zeros(shape=(len(cuisines_list),2))\n",
    "c_and_r = pd.DataFrame(zeros, index=cuisines_list, columns=['Sum','Total'])"
   ]
  },
  {
   "cell_type": "code",
   "execution_count": 80,
   "id": "b5c46997",
   "metadata": {},
   "outputs": [],
   "source": [
    "for i,x in data.iterrows():\n",
    "    for j in x['cuisines2']:\n",
    "        c_and_r.loc[j]['Sum'] += x['aggregate_rating']\n",
    "        c_and_r.loc[j]['Total'] += 1"
   ]
  },
  {
   "cell_type": "code",
   "execution_count": 81,
   "id": "0a8f28b8",
   "metadata": {},
   "outputs": [
    {
     "data": {
      "text/html": [
       "<div>\n",
       "<style scoped>\n",
       "    .dataframe tbody tr th:only-of-type {\n",
       "        vertical-align: middle;\n",
       "    }\n",
       "\n",
       "    .dataframe tbody tr th {\n",
       "        vertical-align: top;\n",
       "    }\n",
       "\n",
       "    .dataframe thead th {\n",
       "        text-align: right;\n",
       "    }\n",
       "</style>\n",
       "<table border=\"1\" class=\"dataframe\">\n",
       "  <thead>\n",
       "    <tr style=\"text-align: right;\">\n",
       "      <th></th>\n",
       "      <th>Sum</th>\n",
       "      <th>Total</th>\n",
       "      <th>Mean</th>\n",
       "    </tr>\n",
       "  </thead>\n",
       "  <tbody>\n",
       "    <tr>\n",
       "      <th>North Indian</th>\n",
       "      <td>38868.4</td>\n",
       "      <td>12886.0</td>\n",
       "      <td>3.016328</td>\n",
       "    </tr>\n",
       "    <tr>\n",
       "      <th>South Indian</th>\n",
       "      <td>9633.6</td>\n",
       "      <td>3074.0</td>\n",
       "      <td>3.133897</td>\n",
       "    </tr>\n",
       "    <tr>\n",
       "      <th>Mithai</th>\n",
       "      <td>2045.1</td>\n",
       "      <td>713.0</td>\n",
       "      <td>2.868303</td>\n",
       "    </tr>\n",
       "    <tr>\n",
       "      <th>Street Food</th>\n",
       "      <td>5870.0</td>\n",
       "      <td>1912.0</td>\n",
       "      <td>3.070084</td>\n",
       "    </tr>\n",
       "    <tr>\n",
       "      <th>Desserts</th>\n",
       "      <td>15265.2</td>\n",
       "      <td>4533.0</td>\n",
       "      <td>3.367571</td>\n",
       "    </tr>\n",
       "    <tr>\n",
       "      <th>...</th>\n",
       "      <td>...</td>\n",
       "      <td>...</td>\n",
       "      <td>...</td>\n",
       "    </tr>\n",
       "    <tr>\n",
       "      <th>Peruvian</th>\n",
       "      <td>0.0</td>\n",
       "      <td>1.0</td>\n",
       "      <td>0.000000</td>\n",
       "    </tr>\n",
       "    <tr>\n",
       "      <th>Afghani</th>\n",
       "      <td>3.4</td>\n",
       "      <td>1.0</td>\n",
       "      <td>3.400000</td>\n",
       "    </tr>\n",
       "    <tr>\n",
       "      <th>Afghani</th>\n",
       "      <td>0.0</td>\n",
       "      <td>2.0</td>\n",
       "      <td>0.000000</td>\n",
       "    </tr>\n",
       "    <tr>\n",
       "      <th>Fried Chicken</th>\n",
       "      <td>6.2</td>\n",
       "      <td>2.0</td>\n",
       "      <td>3.100000</td>\n",
       "    </tr>\n",
       "    <tr>\n",
       "      <th>Indonesian</th>\n",
       "      <td>2.8</td>\n",
       "      <td>1.0</td>\n",
       "      <td>2.800000</td>\n",
       "    </tr>\n",
       "  </tbody>\n",
       "</table>\n",
       "<p>249 rows × 3 columns</p>\n",
       "</div>"
      ],
      "text/plain": [
       "                   Sum    Total      Mean\n",
       "North Indian   38868.4  12886.0  3.016328\n",
       " South Indian   9633.6   3074.0  3.133897\n",
       " Mithai         2045.1    713.0  2.868303\n",
       " Street Food    5870.0   1912.0  3.070084\n",
       " Desserts      15265.2   4533.0  3.367571\n",
       "...                ...      ...       ...\n",
       "Peruvian           0.0      1.0  0.000000\n",
       " Afghani           3.4      1.0  3.400000\n",
       "Afghani            0.0      2.0  0.000000\n",
       "Fried Chicken      6.2      2.0  3.100000\n",
       "Indonesian         2.8      1.0  2.800000\n",
       "\n",
       "[249 rows x 3 columns]"
      ]
     },
     "execution_count": 81,
     "metadata": {},
     "output_type": "execute_result"
    }
   ],
   "source": [
    "c_and_r['Mean'] = c_and_r['Sum']/c_and_r['Total']\n",
    "c_and_r"
   ]
  },
  {
   "cell_type": "code",
   "execution_count": 82,
   "id": "d591415c",
   "metadata": {},
   "outputs": [
    {
     "data": {
      "text/html": [
       "<div>\n",
       "<style scoped>\n",
       "    .dataframe tbody tr th:only-of-type {\n",
       "        vertical-align: middle;\n",
       "    }\n",
       "\n",
       "    .dataframe tbody tr th {\n",
       "        vertical-align: top;\n",
       "    }\n",
       "\n",
       "    .dataframe thead th {\n",
       "        text-align: right;\n",
       "    }\n",
       "</style>\n",
       "<table border=\"1\" class=\"dataframe\">\n",
       "  <thead>\n",
       "    <tr style=\"text-align: right;\">\n",
       "      <th></th>\n",
       "      <th>Mean</th>\n",
       "      <th>Total</th>\n",
       "    </tr>\n",
       "  </thead>\n",
       "  <tbody>\n",
       "    <tr>\n",
       "      <th>Egyptian</th>\n",
       "      <td>4.800000</td>\n",
       "      <td>4.0</td>\n",
       "    </tr>\n",
       "    <tr>\n",
       "      <th>Singaporean</th>\n",
       "      <td>4.466667</td>\n",
       "      <td>3.0</td>\n",
       "    </tr>\n",
       "    <tr>\n",
       "      <th>Moroccan</th>\n",
       "      <td>4.422222</td>\n",
       "      <td>9.0</td>\n",
       "    </tr>\n",
       "    <tr>\n",
       "      <th>Irish</th>\n",
       "      <td>4.400000</td>\n",
       "      <td>1.0</td>\n",
       "    </tr>\n",
       "    <tr>\n",
       "      <th>Vietnamese</th>\n",
       "      <td>4.366667</td>\n",
       "      <td>3.0</td>\n",
       "    </tr>\n",
       "    <tr>\n",
       "      <th>Tex-Mex</th>\n",
       "      <td>4.350000</td>\n",
       "      <td>2.0</td>\n",
       "    </tr>\n",
       "    <tr>\n",
       "      <th>Poké</th>\n",
       "      <td>4.350000</td>\n",
       "      <td>12.0</td>\n",
       "    </tr>\n",
       "    <tr>\n",
       "      <th>Fusion</th>\n",
       "      <td>4.350000</td>\n",
       "      <td>2.0</td>\n",
       "    </tr>\n",
       "    <tr>\n",
       "      <th>International</th>\n",
       "      <td>4.300000</td>\n",
       "      <td>1.0</td>\n",
       "    </tr>\n",
       "    <tr>\n",
       "      <th>Tex-Mex</th>\n",
       "      <td>4.290323</td>\n",
       "      <td>31.0</td>\n",
       "    </tr>\n",
       "  </tbody>\n",
       "</table>\n",
       "</div>"
      ],
      "text/plain": [
       "                    Mean  Total\n",
       "Egyptian        4.800000    4.0\n",
       "Singaporean     4.466667    3.0\n",
       " Moroccan       4.422222    9.0\n",
       "Irish           4.400000    1.0\n",
       "Vietnamese      4.366667    3.0\n",
       "Tex-Mex         4.350000    2.0\n",
       " Poké           4.350000   12.0\n",
       " Fusion         4.350000    2.0\n",
       " International  4.300000    1.0\n",
       " Tex-Mex        4.290323   31.0"
      ]
     },
     "execution_count": 82,
     "metadata": {},
     "output_type": "execute_result"
    }
   ],
   "source": [
    "c_and_r[['Mean','Total']].sort_values(by='Mean', ascending=False)[:10]"
   ]
  },
  {
   "cell_type": "code",
   "execution_count": 84,
   "id": "8a078445",
   "metadata": {},
   "outputs": [
    {
     "name": "stdout",
     "output_type": "stream",
     "text": [
      "Total number of unique cuisines = 104\n"
     ]
    }
   ],
   "source": [
    "hl = []\n",
    "data[\"highlights\"].apply(lambda x : hl.extend(x[2:-2].split(\"', '\")))\n",
    "hl = pd.Series(hl)\n",
    "print(\"Total number of unique cuisines =\",hl.nunique())"
   ]
  },
  {
   "cell_type": "code",
   "execution_count": 86,
   "id": "5d5d2cb2",
   "metadata": {},
   "outputs": [
    {
     "data": {
      "image/png": "[encoded data removed]",
      "text/plain": [
       "<Figure size 1000x600 with 1 Axes>"
      ]
     },
     "metadata": {},
     "output_type": "display_data"
    }
   ],
   "source": [
    "h_count = hl.value_counts()[:5]\n",
    "\n",
    "fig = plt.figure(figsize=[10,6], frameon=False)\n",
    "ax = fig.gca()\n",
    "ax.spines[\"top\"].set_visible(False)\n",
    "ax.spines[\"right\"].set_visible(False)\n",
    "ax.spines[\"left\"].set_color(\"#424242\")\n",
    "ax.spines[\"bottom\"].set_color(\"#424242\")\n",
    "\n",
    "#colors = [\"green\",\"blue\",\"magenta\",\"cyan\",\"gray\",\"yellow\",\"purple\",\"violet\",\"orange\",\"red\",\"maroon\"]\n",
    "#random.shuffle(colors)\n",
    "colors = ['#11174b', '#2a5599', '#3e94c0', '#78c6d0', '#dcecc9']\n",
    "plt.bar(h_count.index, h_count.values, color=colors)\n",
    "\n",
    "plt.xticks(range(0, 6), color=\"#424242\")\n",
    "plt.yticks(range(0, 70000, 10000), color=\"#424242\")\n",
    "plt.xlabel(\"Top 5 highlights\")\n",
    "\n",
    "for i, v in enumerate(h_count):\n",
    "    ax.text(i-0.2, v+500, str(v), color='#424242')\n",
    "plt.title(\"Number of restaurants (by highlights)\")\n",
    "\n",
    "\n",
    "plt.show()"
   ]
  },
  {
   "cell_type": "code",
   "execution_count": 87,
   "id": "c214ded4",
   "metadata": {},
   "outputs": [
    {
     "data": {
      "text/plain": [
       "\"['Lunch', 'Takeaway Available', 'Credit Card', 'Dinner', 'Cash', 'Air Conditioned', 'Indoor Seating', 'Pure Veg']\""
      ]
     },
     "execution_count": 87,
     "metadata": {},
     "output_type": "execute_result"
    }
   ],
   "source": [
    "data[\"highlights\"][0]"
   ]
  },
  {
   "cell_type": "code",
   "execution_count": 88,
   "id": "e2927e21",
   "metadata": {},
   "outputs": [],
   "source": [
    "data[\"highlights2\"] = data['highlights'].apply(lambda x : x[2:-2].split(\"', '\"))\n",
    "\n",
    "hl_list = hl.unique().tolist()\n",
    "zeros = np.zeros(shape=(len(hl_list),2))\n",
    "h_and_r = pd.DataFrame(zeros, index=hl_list, columns=[\"Sum\",\"Total\"])"
   ]
  },
  {
   "cell_type": "code",
   "execution_count": 89,
   "id": "bca7dc54",
   "metadata": {},
   "outputs": [],
   "source": [
    "for i, x in data.iterrows():\n",
    "    for j in x[\"highlights2\"]:\n",
    "        h_and_r.loc[j][\"Sum\"] += x[\"aggregate_rating\"]  \n",
    "        h_and_r.loc[j][\"Total\"] += 1"
   ]
  },
  {
   "cell_type": "code",
   "execution_count": 90,
   "id": "6b544dd6",
   "metadata": {},
   "outputs": [
    {
     "data": {
      "text/html": [
       "<div>\n",
       "<style scoped>\n",
       "    .dataframe tbody tr th:only-of-type {\n",
       "        vertical-align: middle;\n",
       "    }\n",
       "\n",
       "    .dataframe tbody tr th {\n",
       "        vertical-align: top;\n",
       "    }\n",
       "\n",
       "    .dataframe thead th {\n",
       "        text-align: right;\n",
       "    }\n",
       "</style>\n",
       "<table border=\"1\" class=\"dataframe\">\n",
       "  <thead>\n",
       "    <tr style=\"text-align: right;\">\n",
       "      <th></th>\n",
       "      <th>Sum</th>\n",
       "      <th>Total</th>\n",
       "      <th>Mean</th>\n",
       "    </tr>\n",
       "  </thead>\n",
       "  <tbody>\n",
       "    <tr>\n",
       "      <th>Lunch</th>\n",
       "      <td>113340.8</td>\n",
       "      <td>36043.0</td>\n",
       "      <td>3.144600</td>\n",
       "    </tr>\n",
       "    <tr>\n",
       "      <th>Takeaway Available</th>\n",
       "      <td>139848.5</td>\n",
       "      <td>46773.0</td>\n",
       "      <td>2.989941</td>\n",
       "    </tr>\n",
       "    <tr>\n",
       "      <th>Credit Card</th>\n",
       "      <td>94107.2</td>\n",
       "      <td>27530.0</td>\n",
       "      <td>3.418351</td>\n",
       "    </tr>\n",
       "    <tr>\n",
       "      <th>Dinner</th>\n",
       "      <td>118364.5</td>\n",
       "      <td>37643.0</td>\n",
       "      <td>3.144396</td>\n",
       "    </tr>\n",
       "    <tr>\n",
       "      <th>Cash</th>\n",
       "      <td>157862.8</td>\n",
       "      <td>52825.0</td>\n",
       "      <td>2.988411</td>\n",
       "    </tr>\n",
       "    <tr>\n",
       "      <th>...</th>\n",
       "      <td>...</td>\n",
       "      <td>...</td>\n",
       "      <td>...</td>\n",
       "    </tr>\n",
       "    <tr>\n",
       "      <th>Celebrity Frequented</th>\n",
       "      <td>90.1</td>\n",
       "      <td>22.0</td>\n",
       "      <td>4.095455</td>\n",
       "    </tr>\n",
       "    <tr>\n",
       "      <th>Alipay Accepted</th>\n",
       "      <td>3.0</td>\n",
       "      <td>1.0</td>\n",
       "      <td>3.000000</td>\n",
       "    </tr>\n",
       "    <tr>\n",
       "      <th>Subscription Available</th>\n",
       "      <td>4.1</td>\n",
       "      <td>1.0</td>\n",
       "      <td>4.100000</td>\n",
       "    </tr>\n",
       "    <tr>\n",
       "      <th>Subscription Required</th>\n",
       "      <td>4.5</td>\n",
       "      <td>1.0</td>\n",
       "      <td>4.500000</td>\n",
       "    </tr>\n",
       "    <tr>\n",
       "      <th>Bira 91 Beer</th>\n",
       "      <td>8.0</td>\n",
       "      <td>2.0</td>\n",
       "      <td>4.000000</td>\n",
       "    </tr>\n",
       "  </tbody>\n",
       "</table>\n",
       "<p>104 rows × 3 columns</p>\n",
       "</div>"
      ],
      "text/plain": [
       "                             Sum    Total      Mean\n",
       "Lunch                   113340.8  36043.0  3.144600\n",
       "Takeaway Available      139848.5  46773.0  2.989941\n",
       "Credit Card              94107.2  27530.0  3.418351\n",
       "Dinner                  118364.5  37643.0  3.144396\n",
       "Cash                    157862.8  52825.0  2.988411\n",
       "...                          ...      ...       ...\n",
       "Celebrity Frequented        90.1     22.0  4.095455\n",
       "Alipay Accepted              3.0      1.0  3.000000\n",
       "Subscription Available       4.1      1.0  4.100000\n",
       "Subscription Required        4.5      1.0  4.500000\n",
       "Bira 91 Beer                 8.0      2.0  4.000000\n",
       "\n",
       "[104 rows x 3 columns]"
      ]
     },
     "execution_count": 90,
     "metadata": {},
     "output_type": "execute_result"
    }
   ],
   "source": [
    "h_and_r[\"Mean\"] = h_and_r[\"Sum\"] / h_and_r[\"Total\"]\n",
    "h_and_r"
   ]
  },
  {
   "cell_type": "code",
   "execution_count": 91,
   "id": "153587ac",
   "metadata": {},
   "outputs": [
    {
     "data": {
      "text/html": [
       "<div>\n",
       "<style scoped>\n",
       "    .dataframe tbody tr th:only-of-type {\n",
       "        vertical-align: middle;\n",
       "    }\n",
       "\n",
       "    .dataframe tbody tr th {\n",
       "        vertical-align: top;\n",
       "    }\n",
       "\n",
       "    .dataframe thead th {\n",
       "        text-align: right;\n",
       "    }\n",
       "</style>\n",
       "<table border=\"1\" class=\"dataframe\">\n",
       "  <thead>\n",
       "    <tr style=\"text-align: right;\">\n",
       "      <th></th>\n",
       "      <th>Mean</th>\n",
       "      <th>Total</th>\n",
       "    </tr>\n",
       "  </thead>\n",
       "  <tbody>\n",
       "    <tr>\n",
       "      <th>Subscription Required</th>\n",
       "      <td>4.500000</td>\n",
       "      <td>1.0</td>\n",
       "    </tr>\n",
       "    <tr>\n",
       "      <th>Speakeasy</th>\n",
       "      <td>4.300000</td>\n",
       "      <td>3.0</td>\n",
       "    </tr>\n",
       "    <tr>\n",
       "      <th>Gastro Pub</th>\n",
       "      <td>4.198551</td>\n",
       "      <td>69.0</td>\n",
       "    </tr>\n",
       "    <tr>\n",
       "      <th>Craft Beer</th>\n",
       "      <td>4.197297</td>\n",
       "      <td>148.0</td>\n",
       "    </tr>\n",
       "    <tr>\n",
       "      <th>Romantic Dining</th>\n",
       "      <td>4.162416</td>\n",
       "      <td>149.0</td>\n",
       "    </tr>\n",
       "    <tr>\n",
       "      <th>Sneakpeek</th>\n",
       "      <td>4.128316</td>\n",
       "      <td>392.0</td>\n",
       "    </tr>\n",
       "    <tr>\n",
       "      <th>Subscription Available</th>\n",
       "      <td>4.100000</td>\n",
       "      <td>1.0</td>\n",
       "    </tr>\n",
       "    <tr>\n",
       "      <th>Celebrity Frequented</th>\n",
       "      <td>4.095455</td>\n",
       "      <td>22.0</td>\n",
       "    </tr>\n",
       "    <tr>\n",
       "      <th>Keto Options</th>\n",
       "      <td>4.049153</td>\n",
       "      <td>59.0</td>\n",
       "    </tr>\n",
       "    <tr>\n",
       "      <th>Pet Friendly</th>\n",
       "      <td>4.017576</td>\n",
       "      <td>165.0</td>\n",
       "    </tr>\n",
       "  </tbody>\n",
       "</table>\n",
       "</div>"
      ],
      "text/plain": [
       "                            Mean  Total\n",
       "Subscription Required   4.500000    1.0\n",
       "Speakeasy               4.300000    3.0\n",
       "Gastro Pub              4.198551   69.0\n",
       "Craft Beer              4.197297  148.0\n",
       "Romantic Dining         4.162416  149.0\n",
       "Sneakpeek               4.128316  392.0\n",
       "Subscription Available  4.100000    1.0\n",
       "Celebrity Frequented    4.095455   22.0\n",
       "Keto Options            4.049153   59.0\n",
       "Pet Friendly            4.017576  165.0"
      ]
     },
     "execution_count": 91,
     "metadata": {},
     "output_type": "execute_result"
    }
   ],
   "source": [
    "h_and_r[[\"Mean\",\"Total\"]].sort_values(by=\"Mean\", ascending=False)[:10]"
   ]
  },
  {
   "cell_type": "code",
   "execution_count": 94,
   "id": "3d4187c5",
   "metadata": {},
   "outputs": [
    {
     "name": "stderr",
     "output_type": "stream",
     "text": [
      "C:\\Users\\risha\\AppData\\Local\\Temp\\ipykernel_12768\\4230505169.py:1: FutureWarning: \n",
      "\n",
      "`shade` is now deprecated in favor of `fill`; setting `fill=True`.\n",
      "This will become an error in seaborn v0.14.0; please update your code.\n",
      "\n",
      "  sns.kdeplot(data['aggregate_rating'],shade=True)\n"
     ]
    },
    {
     "data": {
      "image/png": "[encoded data removed]",
      "text/plain": [
       "<Figure size 640x480 with 1 Axes>"
      ]
     },
     "metadata": {},
     "output_type": "display_data"
    }
   ],
   "source": [
    "sns.kdeplot(data['aggregate_rating'],shade=True)\n",
    "plt.title('rating distribution')\n",
    "plt.show()"
   ]
  },
  {
   "cell_type": "code",
   "execution_count": 95,
   "id": "e7aa0f79",
   "metadata": {},
   "outputs": [
    {
     "name": "stderr",
     "output_type": "stream",
     "text": [
      "C:\\Users\\risha\\AppData\\Local\\Temp\\ipykernel_12768\\586273067.py:1: FutureWarning: \n",
      "\n",
      "`shade` is now deprecated in favor of `fill`; setting `fill=True`.\n",
      "This will become an error in seaborn v0.14.0; please update your code.\n",
      "\n",
      "  sns.kdeplot(data['average_cost_for_two'], shade=True)\n"
     ]
    },
    {
     "data": {
      "image/png": "[encoded data removed]",
      "text/plain": [
       "<Figure size 640x480 with 1 Axes>"
      ]
     },
     "metadata": {},
     "output_type": "display_data"
    }
   ],
   "source": [
    "sns.kdeplot(data['average_cost_for_two'], shade=True)\n",
    "plt.title(\"average cost for 2 distribution\")\n",
    "plt.show()"
   ]
  },
  {
   "cell_type": "code",
   "execution_count": 96,
   "id": "99edef12",
   "metadata": {},
   "outputs": [
    {
     "name": "stderr",
     "output_type": "stream",
     "text": [
      "C:\\Users\\risha\\AppData\\Local\\Temp\\ipykernel_12768\\1606474467.py:1: FutureWarning: \n",
      "\n",
      "`shade` is now deprecated in favor of `fill`; setting `fill=True`.\n",
      "This will become an error in seaborn v0.14.0; please update your code.\n",
      "\n",
      "  sns.kdeplot(data['average_cost_for_two'], shade=True)\n"
     ]
    },
    {
     "data": {
      "image/png": "[encoded data removed]",
      "text/plain": [
       "<Figure size 640x480 with 1 Axes>"
      ]
     },
     "metadata": {},
     "output_type": "display_data"
    }
   ],
   "source": [
    "sns.kdeplot(data['average_cost_for_two'], shade=True)\n",
    "plt.xlim([0, 6000])\n",
    "plt.xticks(range(0,6000,500))\n",
    "plt.title(\"Average cost for 2 distribution\")\n",
    "plt.show()"
   ]
  },
  {
   "cell_type": "code",
   "execution_count": 97,
   "id": "ee273607",
   "metadata": {},
   "outputs": [
    {
     "data": {
      "image/png": "[encoded data removed]",
      "text/plain": [
       "<Figure size 800x500 with 1 Axes>"
      ]
     },
     "metadata": {},
     "output_type": "display_data"
    }
   ],
   "source": [
    "pr_count = data.groupby(\"price_range\").count()[\"name\"]\n",
    "\n",
    "fig = plt.figure(figsize=[8,5], frameon=False)\n",
    "ax = fig.gca()\n",
    "ax.spines[\"top\"].set_visible(False)\n",
    "ax.spines[\"right\"].set_visible(False)\n",
    "ax.spines[\"left\"].set_color(\"#424242\")\n",
    "ax.spines[\"bottom\"].set_color(\"#424242\")\n",
    "\n",
    "#colors = [\"green\",\"blue\",\"magenta\",\"cyan\",\"gray\",\"yellow\",\"purple\",\"violet\",\"orange\",\"red\",\"maroon\"]\n",
    "#random.shuffle(colors)\n",
    "colors = [\"#2d0f41\",'#933291',\"#f2a49f\",\"#f9cdac\"]\n",
    "plt.bar(pr_count.index, pr_count.values, color=colors)\n",
    "\n",
    "plt.xticks(range(0, 5), color=\"#424242\")\n",
    "plt.yticks(range(0, 40000, 5000), color=\"#424242\")\n",
    "plt.xlabel(\"Price Ranges\")\n",
    "\n",
    "for i, v in enumerate(pr_count):\n",
    "    ax.text(i+0.85, v+700, str(v), color='#424242')\n",
    "plt.title(\"Number of restaurants (by price ranges)\")\n",
    "\n",
    "\n",
    "plt.show()\n"
   ]
  },
  {
   "cell_type": "code",
   "execution_count": 98,
   "id": "a3b021ad",
   "metadata": {},
   "outputs": [
    {
     "data": {
      "text/plain": [
       "0.25"
      ]
     },
     "execution_count": 98,
     "metadata": {},
     "output_type": "execute_result"
    }
   ],
   "source": [
    "np.round(data[[\"average_cost_for_two\",\"aggregate_rating\"]].corr()[\"average_cost_for_two\"][1],2)"
   ]
  },
  {
   "cell_type": "code",
   "execution_count": 99,
   "id": "d17dcb06",
   "metadata": {
    "scrolled": true
   },
   "outputs": [
    {
     "data": {
      "image/png": "[encoded data removed]",
      "text/plain": [
       "<Figure size 640x480 with 1 Axes>"
      ]
     },
     "metadata": {},
     "output_type": "display_data"
    }
   ],
   "source": [
    "plt.plot(\"average_cost_for_two\",\"aggregate_rating\", data=data, linestyle=\"none\", marker=\"o\")\n",
    "plt.xlim([0,6000])\n",
    "plt.title(\"Relationship between Average cost and Rating\")\n",
    "plt.xlabel(\"Average cost for two\")\n",
    "plt.ylabel(\"Ratings\")\n",
    "plt.show()"
   ]
  },
  {
   "cell_type": "code",
   "execution_count": 100,
   "id": "6659f50c",
   "metadata": {
    "scrolled": true
   },
   "outputs": [
    {
     "data": {
      "image/png": "[encoded data removed]",
      "text/plain": [
       "<Figure size 640x480 with 1 Axes>"
      ]
     },
     "metadata": {},
     "output_type": "display_data"
    }
   ],
   "source": [
    "plt.plot(\"average_cost_for_two\",\"aggregate_rating\", data=data.sample(1000), linestyle=\"none\", marker=\"o\")\n",
    "plt.xlim([0,3000])\n",
    "plt.show()"
   ]
  },
  {
   "cell_type": "code",
   "execution_count": 101,
   "id": "eda05b42",
   "metadata": {},
   "outputs": [
    {
     "data": {
      "text/plain": [
       "0.25"
      ]
     },
     "execution_count": 101,
     "metadata": {},
     "output_type": "execute_result"
    }
   ],
   "source": [
    "np.round(data[[\"price_range\",\"aggregate_rating\"]].corr()[\"price_range\"][1],2)"
   ]
  },
  {
   "cell_type": "code",
   "execution_count": 102,
   "id": "26df98c8",
   "metadata": {},
   "outputs": [
    {
     "data": {
      "image/png": "[encoded data removed]",
      "text/plain": [
       "<Figure size 640x480 with 1 Axes>"
      ]
     },
     "metadata": {},
     "output_type": "display_data"
    }
   ],
   "source": [
    "sns.boxplot(x='price_range', y='aggregate_rating', data=data)\n",
    "plt.ylim(1)\n",
    "plt.title(\"Relationship between Price range and Ratings\")\n",
    "plt.show()\n"
   ]
  },
  {
   "cell_type": "code",
   "execution_count": null,
   "id": "33ed81ef",
   "metadata": {},
   "outputs": [],
   "source": []
  }
 ],
 "metadata": {
  "kernelspec": {
   "display_name": "Python 3 (ipykernel)",
   "language": "python",
   "name": "python3"
  },
  "language_info": {
   "codemirror_mode": {
    "name": "ipython",
    "version": 3
   },
   "file_extension": ".py",
   "mimetype": "text/x-python",
   "name": "python",
   "nbconvert_exporter": "python",
   "pygments_lexer": "ipython3",
   "version": "3.11.5"
  }
 },
 "nbformat": 4,
 "nbformat_minor": 5
}
